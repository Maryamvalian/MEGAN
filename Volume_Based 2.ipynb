{
 "cells": [
  {
   "cell_type": "code",
   "execution_count": 2,
   "id": "c20b0887-dd04-4658-96b2-decd25e58833",
   "metadata": {},
   "outputs": [
    {
     "name": "stdout",
     "output_type": "stream",
     "text": [
      "INFO    :  *** Experiment initialized with root /Users/maryamvalian/Data on 2025-04-15 16:14:21 ***\n",
      "DEBUG   :  Using eelbrain 0.40.dev0, mne 1.9.0.\n",
      "INFO    :  Raw input files new or changed, checking digitizer data\n",
      "Cache directory without history\n",
      "---\n",
      "delete:  Delete the cache directory and start over\n",
      "abort:  leave the directory and raise an error\n",
      "validate:  write a history file treating cache as valid\n",
      "help:  display help\n"
     ]
    },
    {
     "name": "stdin",
     "output_type": "stream",
     "text": [
      " >  validate\n"
     ]
    },
    {
     "name": "stdout",
     "output_type": "stream",
     "text": [
      "WARNING :  Validating cache-dir without history\n"
     ]
    }
   ],
   "source": [
    "from pathlib import Path\n",
    "from eelbrain import *\n",
    "from matplotlib import pyplot\n",
    "import mne\n",
    "import numpy as np\n",
    "import re\n",
    "\n",
    "\n",
    "%run experiment.py           #e is the experiment object"
   ]
  },
  {
   "cell_type": "code",
   "execution_count": 3,
   "id": "f8ff6425-2126-45eb-a3b8-3cedc812beec",
   "metadata": {},
   "outputs": [
    {
     "data": {
      "text/plain": [
       "('words', 'sentences', 'emptyroom')"
      ]
     },
     "execution_count": 3,
     "metadata": {},
     "output_type": "execute_result"
    }
   ],
   "source": [
    "e.sessions"
   ]
  },
  {
   "cell_type": "code",
   "execution_count": 1,
   "id": "fbb1368d-a156-42a3-b81a-0d8c8498fa8a",
   "metadata": {},
   "outputs": [
    {
     "ename": "SyntaxError",
     "evalue": "unterminated string literal (detected at line 9) (1312330691.py, line 9)",
     "output_type": "error",
     "traceback": [
      "  \u001b[36mCell\u001b[39m\u001b[36m \u001b[39m\u001b[32mIn[1]\u001b[39m\u001b[32m, line 9\u001b[39m\n\u001b[31m    \u001b[39m\u001b[31m\"\"\"\"\u001b[39m\n       ^\n\u001b[31mSyntaxError\u001b[39m\u001b[31m:\u001b[39m unterminated string literal (detected at line 9)\n"
     ]
    }
   ],
   "source": [
    "\"\"\"inv_info = 'vec-3-dSPM-0'      #vector, or snr3, dspm, 0: superficial dipoles\n",
    "src_info = 'vol-10' # set up at vol-10 for testing, set to 5 for better result: Distance between the two adjacent dipoles\n",
    "e.set_inv(ori=re.split('-',inv_info)[0], \n",
    "                snr=int(re.split('-',inv_info)[1]), \n",
    "                method=re.split('-',inv_info)[2], \n",
    "                depth=int(re.split('-',inv_info)[3]), \n",
    "                pick_normal=False, \n",
    "                src=src_info)\n",
    "                \"\"\"\"\n",
    "e.inv_str('vec', snr=6, method='MNE', depth=0)\n",
    "e.set(parc = 'aparc+aseg')\n",
    "\n",
    "wholebrain_cortical_subcortical_mask = [\n",
    " 'Left-Cerebral-White-Matter',\n",
    " 'Left-Lateral-Ventricle',\n",
    " 'Left-Inf-Lat-Vent',\n",
    " 'Left-Putamen',\n",
    " 'Left-Hippocampus',\n",
    " 'Left-Amygdala',\n",
    " 'Left-Accumbens-area',\n",
    " 'Left-vessel',\n",
    " 'Right-Cerebral-White-Matter',\n",
    " 'Right-Inf-Lat-Vent',\n",
    " 'Right-Putamen',\n",
    " 'Right-Hippocampus',\n",
    " 'Right-Amygdala',\n",
    " 'ctx-lh-bankssts',\n",
    " 'ctx-lh-caudalanteriorcingulate',\n",
    " 'ctx-lh-caudalmiddlefrontal',\n",
    " 'ctx-lh-cuneus',\n",
    " 'ctx-lh-entorhinal',\n",
    " 'ctx-lh-fusiform',\n",
    " 'ctx-lh-inferiorparietal',\n",
    " 'ctx-lh-inferiortemporal',\n",
    " 'ctx-lh-isthmuscingulate',\n",
    " 'ctx-lh-lateraloccipital',\n",
    " 'ctx-lh-lateralorbitofrontal',\n",
    " 'ctx-lh-lingual',\n",
    " 'ctx-lh-medialorbitofrontal',\n",
    " 'ctx-lh-middletemporal',\n",
    " 'ctx-lh-parahippocampal',\n",
    " 'ctx-lh-paracentral',\n",
    " 'ctx-lh-parsopercularis',\n",
    " 'ctx-lh-parsorbitalis',\n",
    " 'ctx-lh-parstriangularis',\n",
    " 'ctx-lh-pericalcarine',\n",
    " 'ctx-lh-postcentral',\n",
    " 'ctx-lh-posteriorcingulate',\n",
    " 'ctx-lh-precentral',\n",
    " 'ctx-lh-precuneus',\n",
    " 'ctx-lh-rostralanteriorcingulate',\n",
    " 'ctx-lh-rostralmiddlefrontal',\n",
    " 'ctx-lh-superiorfrontal',\n",
    " 'ctx-lh-superiorparietal',\n",
    " 'ctx-lh-superiortemporal',\n",
    " 'ctx-lh-supramarginal',\n",
    " 'ctx-lh-frontalpole',\n",
    " 'ctx-lh-temporalpole',\n",
    " 'ctx-lh-transversetemporal',\n",
    " 'ctx-lh-insula',\n",
    " 'ctx-rh-bankssts',\n",
    " 'ctx-rh-caudalanteriorcingulate',\n",
    " 'ctx-rh-caudalmiddlefrontal',\n",
    " 'ctx-rh-cuneus',\n",
    " 'ctx-rh-entorhinal',\n",
    " 'ctx-rh-fusiform',\n",
    " 'ctx-rh-inferiorparietal',\n",
    " 'ctx-rh-inferiortemporal',\n",
    " 'ctx-rh-isthmuscingulate',\n",
    " 'ctx-rh-lateraloccipital',\n",
    " 'ctx-rh-lateralorbitofrontal',\n",
    " 'ctx-rh-lingual',\n",
    " 'ctx-rh-medialorbitofrontal',\n",
    " 'ctx-rh-middletemporal',\n",
    " 'ctx-rh-parahippocampal',\n",
    " 'ctx-rh-paracentral',\n",
    " 'ctx-rh-parsopercularis',\n",
    " 'ctx-rh-parsorbitalis',\n",
    " 'ctx-rh-parstriangularis',\n",
    " 'ctx-rh-pericalcarine',\n",
    " 'ctx-rh-postcentral',\n",
    " 'ctx-rh-posteriorcingulate',\n",
    " 'ctx-rh-precentral',\n",
    " 'ctx-rh-precuneus',\n",
    " 'ctx-rh-rostralanteriorcingulate',\n",
    " 'ctx-rh-rostralmiddlefrontal',\n",
    " 'ctx-rh-superiorfrontal',\n",
    " 'ctx-rh-superiorparietal',\n",
    " 'ctx-rh-superiortemporal',\n",
    " 'ctx-rh-supramarginal',\n",
    " 'ctx-rh-frontalpole',\n",
    " 'ctx-rh-temporalpole',\n",
    " 'ctx-rh-transversetemporal',\n",
    " 'ctx-rh-insula']\n",
    "\n",
    "\n",
    "\n",
    "mask = wholebrain_cortical_subcortical_mask"
   ]
  },
  {
   "cell_type": "code",
   "execution_count": 4,
   "id": "99805743-2348-424f-b3c5-a7cbaf707e8a",
   "metadata": {},
   "outputs": [
    {
     "data": {
      "text/plain": [
       "{'word': PrimaryEpoch('words', tmax=0.8, samplingrate=250, baseline=(None, 0)),\n",
       " 'word-real': SecondaryEpoch('word', \"word == 'real'\"),\n",
       " 'word-stem': SecondaryEpoch('word', \"inflected == 'uninflected'\"),\n",
       " 'word-inflected': SecondaryEpoch('word', \"inflected == 'inflected'\"),\n",
       " 'cov': SecondaryEpoch('word', tmax=0),\n",
       " 'sentence': PrimaryEpoch('sentences', tmax=1.0, samplingrate=250, baseline=(None, 0)),\n",
       " 'sentence-shared': SecondaryEpoch('sentence', \"violation != 'grammatical\"),\n",
       " 'sentence-none': SecondaryEpoch('sentence', \"violation == 'none'\"),\n",
       " 'sentence-semantic': SecondaryEpoch('sentence', \"violation == 'semantic'\")}"
      ]
     },
     "execution_count": 4,
     "metadata": {},
     "output_type": "execute_result"
    }
   ],
   "source": [
    "sessions = ['word']\n",
    "e.epochs"
   ]
  },
  {
   "cell_type": "code",
   "execution_count": 5,
   "id": "e6329666-e68b-4427-9021-d062f55ef6a7",
   "metadata": {},
   "outputs": [],
   "source": [
    "epochs=['word-real','word-stem','word-inflected']\n",
    "group='young'"
   ]
  },
  {
   "cell_type": "code",
   "execution_count": 6,
   "id": "24af44f5-b12c-4734-8bca-9aaf23de01d6",
   "metadata": {},
   "outputs": [
    {
     "data": {
      "text/html": [
       "<figure><table border=\"1\" frame=\"hsides\" rules=\"none\" cellpadding=\"2\"><tr>\n",
       "<td style=\"text-align:left\">#</td>\n",
       "<td style=\"text-align:left\">subject</td>\n",
       "<td style=\"text-align:left\">mri</td>\n",
       "</tr>\n",
       "<tr>\n",
       "<td style=\"text-align:left\">0</td>\n",
       "<td style=\"text-align:left\">R0240</td>\n",
       "<td style=\"text-align:left\">fsaverage * 0.9046130902612369</td>\n",
       "</tr>\n",
       "<tr>\n",
       "<td style=\"text-align:left\">1</td>\n",
       "<td style=\"text-align:left\">R0284</td>\n",
       "<td style=\"text-align:left\">fsaverage * 0.8345097578227244</td>\n",
       "</tr>\n",
       "<tr>\n",
       "<td style=\"text-align:left\">2</td>\n",
       "<td style=\"text-align:left\">R0645</td>\n",
       "<td style=\"text-align:left\">fsaverage * 0.8831630078745408</td>\n",
       "</tr>\n",
       "<tr>\n",
       "<td style=\"text-align:left\">3</td>\n",
       "<td style=\"text-align:left\">R0654</td>\n",
       "<td style=\"text-align:left\">fsaverage * 0.847076641686781</td>\n",
       "</tr>\n",
       "<tr>\n",
       "<td style=\"text-align:left\">4</td>\n",
       "<td style=\"text-align:left\">R0656</td>\n",
       "<td style=\"text-align:left\">fsaverage * 0.85956389422857</td>\n",
       "</tr>\n",
       "<tr>\n",
       "<td style=\"text-align:left\">5</td>\n",
       "<td style=\"text-align:left\">R0727</td>\n",
       "<td style=\"text-align:left\">fsaverage * 0.8815395149982078</td>\n",
       "</tr>\n",
       "<tr>\n",
       "<td style=\"text-align:left\">6</td>\n",
       "<td style=\"text-align:left\">R0728</td>\n",
       "<td style=\"text-align:left\">fsaverage * 0.8197895120408497</td>\n",
       "</tr>\n",
       "<tr>\n",
       "<td style=\"text-align:left\">7</td>\n",
       "<td style=\"text-align:left\">R0729</td>\n",
       "<td style=\"text-align:left\">fsaverage * 0.8788670160653236</td>\n",
       "</tr></table>\n",
       "<figcaption>Subjects in group young</figcaption></figure>"
      ],
      "text/plain": [
       "#   subject   mri                           \n",
       "--------------------------------------------\n",
       "0   R0240     fsaverage * 0.9046130902612369\n",
       "1   R0284     fsaverage * 0.8345097578227244\n",
       "2   R0645     fsaverage * 0.8831630078745408\n",
       "3   R0654     fsaverage * 0.847076641686781 \n",
       "4   R0656     fsaverage * 0.85956389422857  \n",
       "5   R0727     fsaverage * 0.8815395149982078\n",
       "6   R0728     fsaverage * 0.8197895120408497\n",
       "7   R0729     fsaverage * 0.8788670160653236\n",
       "--------------------------------------------\n",
       "Subjects in group young"
      ]
     },
     "execution_count": 6,
     "metadata": {},
     "output_type": "execute_result"
    }
   ],
   "source": [
    "e.show_subjects()"
   ]
  },
  {
   "cell_type": "code",
   "execution_count": 7,
   "id": "b32080e6-6d54-471f-aa13-e9a0d565a807",
   "metadata": {},
   "outputs": [
    {
     "name": "stdout",
     "output_type": "stream",
     "text": [
      "DEBUG   :  Make evoked /Users/maryamvalian/Data/eelbrain-cache/evoked/R0656/n-ica word-real word-ave.fif\n",
      "DEBUG   :  Extracting events for n-ica R0656 words\n",
      "INFO    :  Raw tsss: computing Maxwell filter for R0656/words\n",
      "INFO    :  Raw n-1-20: filtering for R0656/words...\n",
      "DEBUG   :  Raw n-ica: applying ICA for R0656/words...\n",
      "DEBUG   :  Make evoked /Users/maryamvalian/Data/eelbrain-cache/evoked/R0727/n-ica word-real word-ave.fif\n",
      "DEBUG   :  Extracting events for n-ica R0727 words\n",
      "INFO    :  Raw tsss: computing Maxwell filter for R0727/words\n",
      "INFO    :  Raw n-1-20: filtering for R0727/words...\n",
      "DEBUG   :  Raw n-ica: applying ICA for R0727/words...\n",
      "DEBUG   :  Make evoked /Users/maryamvalian/Data/eelbrain-cache/evoked/R0728/n-ica word-real word-ave.fif\n",
      "DEBUG   :  Extracting events for n-ica R0728 words\n",
      "INFO    :  Raw tsss: computing Maxwell filter for R0728/words\n",
      "INFO    :  Raw n-1-20: filtering for R0728/words...\n",
      "DEBUG   :  Raw n-ica: applying ICA for R0728/words...\n",
      "DEBUG   :  Make evoked /Users/maryamvalian/Data/eelbrain-cache/evoked/R0729/n-ica word-real word-ave.fif\n",
      "DEBUG   :  Extracting events for n-ica R0729 words\n",
      "INFO    :  Raw tsss: computing Maxwell filter for R0729/words\n",
      "INFO    :  Raw n-1-20: filtering for R0729/words...\n",
      "DEBUG   :  Raw n-ica: applying ICA for R0729/words...\n"
     ]
    },
    {
     "data": {
      "application/vnd.jupyter.widget-view+json": {
       "model_id": "c26b1225ca00471f897c4451049b90e6",
       "version_major": 2,
       "version_minor": 0
      },
      "text/plain": [
       "Localize:   0%|          | 0/8 [00:00<?, ?it/s]"
      ]
     },
     "metadata": {},
     "output_type": "display_data"
    },
    {
     "name": "stdout",
     "output_type": "stream",
     "text": [
      "INFO    :  Scaling vol-10 source space for R0656...\n",
      "INFO    :  Raw tsss: computing Maxwell filter for R0656/sentences\n",
      "INFO    :  Raw n-1-20: filtering for R0656/sentences...\n",
      "DEBUG   :  Raw n-ica: applying ICA for R0656/sentences...\n",
      "DEBUG   :  make_fwd sentences-R0656-vol-10-fwd.fif...\n",
      "DEBUG   :  Make cov-file /Users/maryamvalian/Data/eelbrain-cache/cov/R0656/n-ica emptyroom--cov.fif\n",
      "INFO    :  Raw tsss: computing Maxwell filter for R0656/emptyroom\n",
      "INFO    :  Raw n-1-20: filtering for R0656/emptyroom...\n",
      "DEBUG   :  Raw n-ica: applying ICA for R0656/emptyroom...\n",
      "INFO    :  Scaling vol-10 source space for R0727...\n",
      "INFO    :  Raw tsss: computing Maxwell filter for R0727/sentences\n",
      "INFO    :  Raw n-1-20: filtering for R0727/sentences...\n",
      "DEBUG   :  Raw n-ica: applying ICA for R0727/sentences...\n",
      "DEBUG   :  make_fwd sentences-R0727-vol-10-fwd.fif...\n",
      "DEBUG   :  Make cov-file /Users/maryamvalian/Data/eelbrain-cache/cov/R0727/n-ica emptyroom--cov.fif\n",
      "INFO    :  Raw tsss: computing Maxwell filter for R0727/emptyroom\n",
      "INFO    :  Raw n-1-20: filtering for R0727/emptyroom...\n",
      "DEBUG   :  Raw n-ica: applying ICA for R0727/emptyroom...\n",
      "INFO    :  Scaling vol-10 source space for R0728...\n",
      "INFO    :  Raw tsss: computing Maxwell filter for R0728/sentences\n",
      "INFO    :  Raw n-1-20: filtering for R0728/sentences...\n",
      "DEBUG   :  Raw n-ica: applying ICA for R0728/sentences...\n",
      "DEBUG   :  make_fwd sentences-R0728-vol-10-fwd.fif...\n",
      "DEBUG   :  Make cov-file /Users/maryamvalian/Data/eelbrain-cache/cov/R0728/n-ica emptyroom--cov.fif\n",
      "INFO    :  Raw tsss: computing Maxwell filter for R0728/emptyroom\n",
      "INFO    :  Raw n-1-20: filtering for R0728/emptyroom...\n",
      "DEBUG   :  Raw n-ica: applying ICA for R0728/emptyroom...\n",
      "INFO    :  Scaling vol-10 source space for R0729...\n",
      "INFO    :  Raw tsss: computing Maxwell filter for R0729/sentences\n",
      "INFO    :  Raw n-1-20: filtering for R0729/sentences...\n",
      "DEBUG   :  Raw n-ica: applying ICA for R0729/sentences...\n",
      "DEBUG   :  make_fwd sentences-R0729-vol-10-fwd.fif...\n",
      "DEBUG   :  Make cov-file /Users/maryamvalian/Data/eelbrain-cache/cov/R0729/n-ica emptyroom--cov.fif\n",
      "INFO    :  Raw tsss: computing Maxwell filter for R0729/emptyroom\n",
      "INFO    :  Raw n-1-20: filtering for R0729/emptyroom...\n",
      "DEBUG   :  Raw n-ica: applying ICA for R0729/emptyroom...\n",
      "DEBUG   :  Make evoked /Users/maryamvalian/Data/eelbrain-cache/evoked/R0656/n-ica word-stem word-ave.fif\n",
      "DEBUG   :  Raw n-ica: applying ICA for R0656/words...\n",
      "DEBUG   :  Make evoked /Users/maryamvalian/Data/eelbrain-cache/evoked/R0727/n-ica word-stem word-ave.fif\n",
      "DEBUG   :  Raw n-ica: applying ICA for R0727/words...\n",
      "DEBUG   :  Make evoked /Users/maryamvalian/Data/eelbrain-cache/evoked/R0728/n-ica word-stem word-ave.fif\n",
      "DEBUG   :  Raw n-ica: applying ICA for R0728/words...\n",
      "DEBUG   :  Make evoked /Users/maryamvalian/Data/eelbrain-cache/evoked/R0729/n-ica word-stem word-ave.fif\n",
      "DEBUG   :  Raw n-ica: applying ICA for R0729/words...\n"
     ]
    },
    {
     "data": {
      "application/vnd.jupyter.widget-view+json": {
       "model_id": "f5a73a1a8bd545898c87a188b94a4711",
       "version_major": 2,
       "version_minor": 0
      },
      "text/plain": [
       "Localize:   0%|          | 0/16 [00:00<?, ?it/s]"
      ]
     },
     "metadata": {},
     "output_type": "display_data"
    },
    {
     "name": "stdout",
     "output_type": "stream",
     "text": [
      "DEBUG   :  Make evoked /Users/maryamvalian/Data/eelbrain-cache/evoked/R0656/n-ica word-inflected word-ave.fif\n",
      "DEBUG   :  Raw n-ica: applying ICA for R0656/words...\n",
      "DEBUG   :  Make evoked /Users/maryamvalian/Data/eelbrain-cache/evoked/R0727/n-ica word-inflected word-ave.fif\n",
      "DEBUG   :  Raw n-ica: applying ICA for R0727/words...\n",
      "DEBUG   :  Make evoked /Users/maryamvalian/Data/eelbrain-cache/evoked/R0728/n-ica word-inflected word-ave.fif\n",
      "DEBUG   :  Raw n-ica: applying ICA for R0728/words...\n",
      "DEBUG   :  Make evoked /Users/maryamvalian/Data/eelbrain-cache/evoked/R0729/n-ica word-inflected word-ave.fif\n",
      "DEBUG   :  Raw n-ica: applying ICA for R0729/words...\n"
     ]
    },
    {
     "data": {
      "application/vnd.jupyter.widget-view+json": {
       "model_id": "a98defc479924617a1978d2552607e8d",
       "version_major": 2,
       "version_minor": 0
      },
      "text/plain": [
       "Localize:   0%|          | 0/16 [00:00<?, ?it/s]"
      ]
     },
     "metadata": {},
     "output_type": "display_data"
    }
   ],
   "source": [
    "\n",
    "results={}\n",
    "for epoch in epochs:\n",
    "    for session in sessions:\n",
    "        e.set(raw='n-ica', epoch=epoch, rej='')\n",
    "        \n",
    "        result=e.load_evoked_stc(\n",
    "            subjects=group, \n",
    "            baseline=False,\n",
    "            cov='emptyroom', \n",
    "            model='word',\n",
    "           )\n",
    "        results[f'{epoch}_{session}'] = result\n",
    " \n"
   ]
  },
  {
   "cell_type": "markdown",
   "id": "05f1649e-7ec0-4a1d-9256-a641474de878",
   "metadata": {},
   "source": [
    "# Plot Brain"
   ]
  },
  {
   "cell_type": "code",
   "execution_count": 8,
   "id": "128d8174-5ab6-4e57-8bfd-cde5b357d8fc",
   "metadata": {},
   "outputs": [
    {
     "ename": "NameError",
     "evalue": "name 'vertices_all_list' is not defined",
     "output_type": "error",
     "traceback": [
      "\u001b[31m---------------------------------------------------------------------------\u001b[39m",
      "\u001b[31mNameError\u001b[39m                                 Traceback (most recent call last)",
      "\u001b[36mCell\u001b[39m\u001b[36m \u001b[39m\u001b[32mIn[8]\u001b[39m\u001b[32m, line 3\u001b[39m\n\u001b[32m      1\u001b[39m subject_id = \u001b[33m'\u001b[39m\u001b[33mfsaverage\u001b[39m\u001b[33m'\u001b[39m\n\u001b[32m----> \u001b[39m\u001b[32m3\u001b[39m dipoles_all_timeseries = np.zeros((\u001b[38;5;28mlen\u001b[39m(\u001b[43mvertices_all_list\u001b[49m[\u001b[32m0\u001b[39m]),res_diff.shape[\u001b[32m1\u001b[39m],res_diff.shape[\u001b[32m2\u001b[39m]))\n\u001b[32m      6\u001b[39m src = mne.read_source_spaces(\u001b[33m'\u001b[39m\u001b[33m/Users/maryamvalian/Data/mri/fsaverage/bem/fsaverage-vol-7-src.fif\u001b[39m\u001b[33m'\u001b[39m)\n\u001b[32m      7\u001b[39m stc = mne.VolVectorSourceEstimate(data = dipoles_all_timeseries, vertices=vertices_all_list, tmin=-\u001b[32m0.1\u001b[39m, tstep=\u001b[32m0.005\u001b[39m)\n",
      "\u001b[31mNameError\u001b[39m: name 'vertices_all_list' is not defined"
     ]
    }
   ],
   "source": [
    "subject_id = 'fsaverage'\n",
    "\n",
    "dipoles_all_timeseries = np.zeros((len(vertices_all_list[0]),res_diff.shape[1],res_diff.shape[2]))\n",
    "\n",
    "\n",
    "src = mne.read_source_spaces('/Users/maryamvalian/Data/mri/fsaverage/bem/fsaverage-vol-10-src.fif')\n",
    "stc = mne.VolVectorSourceEstimate(data = dipoles_all_timeseries, vertices=vertices_all_list, tmin=-0.1, tstep=0.005)\n",
    "\n",
    "\n",
    "brain1 = stc.plot(\n",
    "    src = src,\n",
    "    subject = subject_id, \n",
    "    subjects_dir=subjects_dir,\n",
    "    mode = 'stat_map',\n",
    "    # mode = 'glass_brain',\n",
    "   # clim = {'kind':'value','lims': [0,5,10]}\n",
    ")\n"
   ]
  },
  {
   "cell_type": "code",
   "execution_count": null,
   "id": "07c97409-a317-4dfe-aa51-1e2a12b67470",
   "metadata": {},
   "outputs": [],
   "source": []
  }
 ],
 "metadata": {
  "kernelspec": {
   "display_name": "Python 3 (ipykernel)",
   "language": "python",
   "name": "python3"
  },
  "language_info": {
   "codemirror_mode": {
    "name": "ipython",
    "version": 3
   },
   "file_extension": ".py",
   "mimetype": "text/x-python",
   "name": "python",
   "nbconvert_exporter": "python",
   "pygments_lexer": "ipython3",
   "version": "3.12.9"
  }
 },
 "nbformat": 4,
 "nbformat_minor": 5
}
