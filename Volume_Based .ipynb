{
 "cells": [
  {
   "cell_type": "code",
   "execution_count": 1,
   "id": "c20b0887-dd04-4658-96b2-decd25e58833",
   "metadata": {},
   "outputs": [
    {
     "name": "stdout",
     "output_type": "stream",
     "text": [
      "INFO    :  *** Experiment initialized with root /Users/maryamvalian/Data on 2025-04-30 17:14:10 ***\n",
      "INFO    :  Using eelbrain 0.40.3, mne 1.9.0.\n",
      "WARNING :    Group small changed:\n",
      "WARNING :      Members removed: R0656, R0727\n",
      "WARNING :      Members added: R0654\n",
      "DEBUG   :  Outdated cache files:\n",
      "DEBUG   :   >eelbrain-cache/test/* small/* *.pickled\n",
      "DEBUG   :   >results/* small/* * *.mov\n",
      "DEBUG   :   >results/* small/*/*.html\n",
      "DEBUG   :  No existing cache files affected.\n"
     ]
    }
   ],
   "source": [
    "from pathlib import Path\n",
    "from eelbrain import *\n",
    "from matplotlib import pyplot\n",
    "import mne\n",
    "import numpy\n",
    "import re\n",
    "\n",
    "\n",
    "%run experiment.py           #e is the experiment object"
   ]
  },
  {
   "cell_type": "code",
   "execution_count": 2,
   "id": "689f2a58-ffb7-4a98-bfb3-ab074c9716da",
   "metadata": {},
   "outputs": [
    {
     "data": {
      "application/vnd.jupyter.widget-view+json": {
       "model_id": "03dfb0b449e14b03bad38712829548b1",
       "version_major": 2,
       "version_minor": 0
      },
      "text/plain": [
       "Localize:   0%|          | 0/56 [00:00<?, ?it/s]"
      ]
     },
     "metadata": {},
     "output_type": "display_data"
    }
   ],
   "source": [
    "word_young = e.load_evoked_stc('young', epoch='word', model='word % inflected'\n",
    "       , src='vol-7', inv='vec-3-MNE-0', parc='aparc+aseg')"
   ]
  },
  {
   "cell_type": "code",
   "execution_count": 5,
   "id": "128d8174-5ab6-4e57-8bfd-cde5b357d8fc",
   "metadata": {},
   "outputs": [],
   "source": [
    "#plot.GlassBrain.butterfly(word_young['srcm'].mean('case'), cmap='Reds')"
   ]
  },
  {
   "cell_type": "code",
   "execution_count": 6,
   "id": "36350d82-f591-4d24-adf9-8306175349ee",
   "metadata": {},
   "outputs": [
    {
     "data": {
      "application/vnd.jupyter.widget-view+json": {
       "model_id": "0911793e4a914639b62fb8110212dc0f",
       "version_major": 2,
       "version_minor": 0
      },
      "text/plain": [
       "Localize:   0%|          | 0/36 [00:00<?, ?it/s]"
      ]
     },
     "metadata": {},
     "output_type": "display_data"
    }
   ],
   "source": [
    "word_old = e.load_evoked_stc('old', epoch='word', model='word % inflected'\n",
    "       , src='vol-7', inv='vec-3-MNE-0', parc='aparc+aseg')"
   ]
  },
  {
   "cell_type": "code",
   "execution_count": 7,
   "id": "0187bebe-b8af-406e-9b82-dab31bff2995",
   "metadata": {},
   "outputs": [
    {
     "data": {
      "application/vnd.jupyter.widget-view+json": {
       "model_id": "ea442032c124415e98db562dda918079",
       "version_major": 2,
       "version_minor": 0
      },
      "text/plain": [
       "Localize:   0%|          | 0/24 [00:00<?, ?it/s]"
      ]
     },
     "metadata": {},
     "output_type": "display_data"
    }
   ],
   "source": [
    "word_aphasia = e.load_evoked_stc('aphasia', epoch='word', model='word % inflected'\n",
    "       , src='vol-7', inv='vec-3-MNE-0', parc='aparc+aseg')"
   ]
  },
  {
   "cell_type": "code",
   "execution_count": null,
   "id": "898ff026-d538-4c9d-a0a7-10b231fa0993",
   "metadata": {},
   "outputs": [],
   "source": []
  }
 ],
 "metadata": {
  "jupytext": {
   "formats": "ipynb,py:percent"
  },
  "kernelspec": {
   "display_name": "Python 3 (ipykernel)",
   "language": "python",
   "name": "python3"
  },
  "language_info": {
   "codemirror_mode": {
    "name": "ipython",
    "version": 3
   },
   "file_extension": ".py",
   "mimetype": "text/x-python",
   "name": "python",
   "nbconvert_exporter": "python",
   "pygments_lexer": "ipython3",
   "version": "3.12.10"
  }
 },
 "nbformat": 4,
 "nbformat_minor": 5
}
