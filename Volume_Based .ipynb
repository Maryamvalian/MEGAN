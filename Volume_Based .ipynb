{
 "cells": [
  {
   "cell_type": "code",
   "execution_count": 1,
   "id": "c20b0887-dd04-4658-96b2-decd25e58833",
   "metadata": {},
   "outputs": [
    {
     "name": "stdout",
     "output_type": "stream",
     "text": [
      "INFO    :  *** Experiment initialized with root /Users/maryamvalian/Data/Aphasia on 2025-05-13 09:38:40 ***\n",
      "INFO    :  Using eelbrain 0.40.3, mne 1.9.0.\n",
      "DEBUG   :  Outdated cache files:\n",
      "DEBUG   :  No existing cache files affected.\n"
     ]
    }
   ],
   "source": [
    "from pathlib import Path\n",
    "from eelbrain import *\n",
    "from matplotlib import pyplot\n",
    "import mne\n",
    "import numpy\n",
    "import re\n",
    "\n",
    "\n",
    "%run experiment.py           #e is the experiment object"
   ]
  },
  {
   "cell_type": "code",
   "execution_count": 9,
   "id": "c9f60470-4739-47a2-a795-12b51cd40542",
   "metadata": {},
   "outputs": [
    {
     "name": "stdout",
     "output_type": "stream",
     "text": [
      "DEBUG   :  Raw n-ica: applying ICA for R0918/words...\n"
     ]
    }
   ],
   "source": [
    "epochs=e.load_epochs(epoch='word-real')\n",
    "#epochs\n",
    "tstart=0.1\n",
    "tstop=0.6"
   ]
  },
  {
   "cell_type": "code",
   "execution_count": 10,
   "id": "689f2a58-ffb7-4a98-bfb3-ab074c9716da",
   "metadata": {
    "jupyter": {
     "source_hidden": true
    }
   },
   "outputs": [],
   "source": [
    "#word_young = e.load_evoked_stc('young', epoch='word', model='word % inflected'\n",
    "#       , src='vol-5', inv='vec-3-MNE-0', parc='aparc+aseg')\n",
    "#word_aphasia = e.load_evoked_stc('aphasia', epoch='word', model='word % inflected'\n",
    "#       , src='vol-5', inv='vec-3-MNE-0', parc='aparc+aseg')\n",
    "#word_old = e.load_evoked_stc('old', epoch='word', model='word % inflected'\n",
    "#       , src='vol-5', inv='vec-3-MNE-0', parc='aparc+aseg')\n",
    "#plot.GlassBrain.butterfly(word_young['srcm'].mean('case'), cmap='Reds')"
   ]
  },
  {
   "cell_type": "markdown",
   "id": "65234152-d02c-4c41-8114-dd7cf3515c3b",
   "metadata": {},
   "source": [
    "## Mask define"
   ]
  },
  {
   "cell_type": "code",
   "execution_count": 4,
   "id": "4eb00b45-e1c8-470d-98e7-7d5aaa7a32b5",
   "metadata": {
    "jupyter": {
     "source_hidden": true
    }
   },
   "outputs": [],
   "source": [
    "wholebrain_cortical_subcortical_mask = [\n",
    " 'Left-Cerebral-White-Matter',\n",
    " 'Left-Lateral-Ventricle',\n",
    " 'Left-Inf-Lat-Vent',\n",
    " 'Left-Putamen',\n",
    " 'Left-Hippocampus',\n",
    " 'Left-Amygdala',\n",
    " 'Left-Accumbens-area',\n",
    " 'Left-vessel',\n",
    " 'Right-Cerebral-White-Matter',\n",
    " 'Right-Inf-Lat-Vent',\n",
    " 'Right-Putamen',\n",
    " 'Right-Hippocampus',\n",
    " 'Right-Amygdala',\n",
    " 'ctx-lh-bankssts',\n",
    " 'ctx-lh-caudalanteriorcingulate',\n",
    " 'ctx-lh-caudalmiddlefrontal',\n",
    " 'ctx-lh-cuneus',\n",
    " 'ctx-lh-entorhinal',\n",
    " 'ctx-lh-fusiform',\n",
    " 'ctx-lh-inferiorparietal',\n",
    " 'ctx-lh-inferiortemporal',\n",
    " 'ctx-lh-isthmuscingulate',\n",
    " 'ctx-lh-lateraloccipital',\n",
    " 'ctx-lh-lateralorbitofrontal',\n",
    " 'ctx-lh-lingual',\n",
    " 'ctx-lh-medialorbitofrontal',\n",
    " 'ctx-lh-middletemporal',\n",
    " 'ctx-lh-parahippocampal',\n",
    " 'ctx-lh-paracentral',\n",
    " 'ctx-lh-parsopercularis',\n",
    " 'ctx-lh-parsorbitalis',\n",
    " 'ctx-lh-parstriangularis',\n",
    " 'ctx-lh-pericalcarine',\n",
    " 'ctx-lh-postcentral',\n",
    " 'ctx-lh-posteriorcingulate',\n",
    " 'ctx-lh-precentral',\n",
    " 'ctx-lh-precuneus',\n",
    " 'ctx-lh-rostralanteriorcingulate',\n",
    " 'ctx-lh-rostralmiddlefrontal',\n",
    " 'ctx-lh-superiorfrontal',\n",
    " 'ctx-lh-superiorparietal',\n",
    " 'ctx-lh-superiortemporal',\n",
    " 'ctx-lh-supramarginal',\n",
    " 'ctx-lh-frontalpole',\n",
    " 'ctx-lh-temporalpole',\n",
    " 'ctx-lh-transversetemporal',\n",
    " 'ctx-lh-insula',\n",
    " 'ctx-rh-bankssts',\n",
    " 'ctx-rh-caudalanteriorcingulate',\n",
    " 'ctx-rh-caudalmiddlefrontal',\n",
    " 'ctx-rh-cuneus',\n",
    " 'ctx-rh-entorhinal',\n",
    " 'ctx-rh-fusiform',\n",
    " 'ctx-rh-inferiorparietal',\n",
    " 'ctx-rh-inferiortemporal',\n",
    " 'ctx-rh-isthmuscingulate',\n",
    " 'ctx-rh-lateraloccipital',\n",
    " 'ctx-rh-lateralorbitofrontal',\n",
    " 'ctx-rh-lingual',\n",
    " 'ctx-rh-medialorbitofrontal',\n",
    " 'ctx-rh-middletemporal',\n",
    " 'ctx-rh-parahippocampal',\n",
    " 'ctx-rh-paracentral',\n",
    " 'ctx-rh-parsopercularis',\n",
    " 'ctx-rh-parsorbitalis',\n",
    " 'ctx-rh-parstriangularis',\n",
    " 'ctx-rh-pericalcarine',\n",
    " 'ctx-rh-postcentral',\n",
    " 'ctx-rh-posteriorcingulate',\n",
    " 'ctx-rh-precentral',\n",
    " 'ctx-rh-precuneus',\n",
    " 'ctx-rh-rostralanteriorcingulate',\n",
    " 'ctx-rh-rostralmiddlefrontal',\n",
    " 'ctx-rh-superiorfrontal',\n",
    " 'ctx-rh-superiorparietal',\n",
    " 'ctx-rh-superiortemporal',\n",
    " 'ctx-rh-supramarginal',\n",
    " 'ctx-rh-frontalpole',\n",
    " 'ctx-rh-temporalpole',\n",
    " 'ctx-rh-transversetemporal',\n",
    " 'ctx-rh-insula']\n",
    "\n",
    "lh_cortical_subcortical_mask = [\n",
    " 'Left-Cerebral-White-Matter',\n",
    " 'Left-Lateral-Ventricle',\n",
    " 'Left-Inf-Lat-Vent',\n",
    " 'Left-Putamen',\n",
    " 'Left-Hippocampus',\n",
    " 'Left-Amygdala',\n",
    " 'Left-Accumbens-area',\n",
    " 'Left-vessel',\n",
    " 'ctx-lh-bankssts',\n",
    " 'ctx-lh-caudalanteriorcingulate',\n",
    " 'ctx-lh-caudalmiddlefrontal',\n",
    " 'ctx-lh-cuneus',\n",
    " 'ctx-lh-entorhinal',\n",
    " 'ctx-lh-fusiform',\n",
    " 'ctx-lh-inferiorparietal',\n",
    " 'ctx-lh-inferiortemporal',\n",
    " 'ctx-lh-isthmuscingulate',\n",
    " 'ctx-lh-lateraloccipital',\n",
    " 'ctx-lh-lateralorbitofrontal',\n",
    " 'ctx-lh-lingual',\n",
    " 'ctx-lh-medialorbitofrontal',\n",
    " 'ctx-lh-middletemporal',\n",
    " 'ctx-lh-parahippocampal',\n",
    " 'ctx-lh-paracentral',\n",
    " 'ctx-lh-parsopercularis',\n",
    " 'ctx-lh-parsorbitalis',\n",
    " 'ctx-lh-parstriangularis',\n",
    " 'ctx-lh-pericalcarine',\n",
    " 'ctx-lh-postcentral',\n",
    " 'ctx-lh-posteriorcingulate',\n",
    " 'ctx-lh-precentral',\n",
    " 'ctx-lh-precuneus',\n",
    " 'ctx-lh-rostralanteriorcingulate',\n",
    " 'ctx-lh-rostralmiddlefrontal',\n",
    " 'ctx-lh-superiorfrontal',\n",
    " 'ctx-lh-superiorparietal',\n",
    " 'ctx-lh-superiortemporal',\n",
    " 'ctx-lh-supramarginal',\n",
    " 'ctx-lh-frontalpole',\n",
    " 'ctx-lh-temporalpole',\n",
    " 'ctx-lh-transversetemporal',\n",
    " 'ctx-lh-insula',\n",
    "]\n",
    "\n",
    "\n",
    "mask = wholebrain_cortical_subcortical_mask\n",
    "mask_name = [name for name in globals() if globals()[name] is mask][0]"
   ]
  },
  {
   "cell_type": "markdown",
   "id": "a44ea48f-5975-404b-ad18-838b7263b56c",
   "metadata": {
    "lines_to_next_cell": 2
   },
   "source": [
    "# One sample t-tests\n",
    "## Inside Young Group"
   ]
  },
  {
   "cell_type": "code",
   "execution_count": 24,
   "id": "251e4c62-95a0-492c-bc82-9f3a88af5b67",
   "metadata": {},
   "outputs": [
    {
     "data": {
      "application/vnd.jupyter.widget-view+json": {
       "model_id": "8da95759fbab41098598ef0d2781582b",
       "version_major": 2,
       "version_minor": 0
      },
      "text/plain": [
       "Localize:   0%|          | 0/56 [00:00<?, ?it/s]"
      ]
     },
     "metadata": {},
     "output_type": "display_data"
    },
    {
     "data": {
      "application/vnd.jupyter.widget-view+json": {
       "model_id": "3860192fedf343839097593310860127",
       "version_major": 2,
       "version_minor": 0
      },
      "text/plain": [
       "Permutation test:   0%|          | 0/10000 [00:00<?, ? permutations/s]"
      ]
     },
     "metadata": {},
     "output_type": "display_data"
    },
    {
     "name": "stdout",
     "output_type": "stream",
     "text": [
      "words: realinflected\n",
      "#    id     n_sources   location                      tstart   tstop   duration   p        sig\n",
      "----------------------------------------------------------------------------------------------\n",
      "0    1      524         ctx-lh-inferiortemporal       0.1      0.588   0.488      0        ***\n",
      "1    15     516         Unknown                       0.1      0.344   0.244      0        ***\n",
      "2    17     326         Unknown                       0.34     0.6     0.26       0.0002   ***\n",
      "3    281    1           ctx-rh-parahippocampal        0.392    0.404   0.012      0.045    *  \n",
      "4    845    1           Right-Cerebral-White-Matter   0.488    0.5     0.012      0.0458   *  \n",
      "5    1009   2           Right-Cerebral-White-Matter   0.336    0.34    0.004      0.0495   *  \n",
      "6    1109   3           Unknown                       0.596    0.6     0.004      0.0483   *  \n",
      "7    1213   2           Unknown                       0.588    0.596   0.008      0.0469   *  \n",
      "8    1268   2           ctx-rh-rostralmiddlefrontal   0.5      0.512   0.012      0.046    *  \n",
      "9    1310   1           Unknown                       0.548    0.568   0.02       0.0458   *  \n",
      "10   2935   4           Right-Cerebral-White-Matter   0.292    0.32    0.028      0.0339   *  \n"
     ]
    },
    {
     "data": {
      "application/vnd.jupyter.widget-view+json": {
       "model_id": "6939bf4de08d4384990db5cc5ab51671",
       "version_major": 2,
       "version_minor": 0
      },
      "text/plain": [
       "Permutation test:   0%|          | 0/10000 [00:00<?, ? permutations/s]"
      ]
     },
     "metadata": {},
     "output_type": "display_data"
    },
    {
     "name": "stdout",
     "output_type": "stream",
     "text": [
      "words: realuninflected\n",
      "#    id     n_sources   location                      tstart   tstop   duration   p        sig\n",
      "----------------------------------------------------------------------------------------------\n",
      "0    1      517         ctx-lh-inferiortemporal       0.1      0.6     0.5        0.0001   ***\n",
      "1    16     513         Unknown                       0.1      0.6     0.5        0        ***\n",
      "2    1020   8           Right-Cerebral-White-Matter   0.56     0.588   0.028      0.0425   *  \n",
      "3    1489   3           ctx-lh-rostralmiddlefrontal   0.368    0.38    0.012      0.0468   *  \n",
      "4    1494   1           Left-Cerebral-White-Matter    0.368    0.376   0.008      0.0495   *  \n",
      "5    2067   2           Right-Cerebral-White-Matter   0.392    0.408   0.016      0.0482   *  \n",
      "6    2318   1           Left-Cerebral-White-Matter    0.432    0.444   0.012      0.0491   *  \n",
      "7    2910   6           Right-Cerebral-White-Matter   0.464    0.492   0.028      0.0481   *  \n",
      "8    2913   1           Right-Cerebral-White-Matter   0.52     0.528   0.008      0.0496   *  \n",
      "9    3084   2           Right-Cerebral-White-Matter   0.452    0.48    0.028      0.0388   *  \n",
      "10   3157   5           Right-Cerebral-White-Matter   0.428    0.46    0.032      0.0412   *  \n",
      "11   3159   2           Unknown                       0.548    0.564   0.016      0.0429   *  \n",
      "12   3209   8           ctx-rh-caudalmiddlefrontal    0.412    0.448   0.036      0.0419   *  \n",
      "13   3335   1           Left-Cerebral-White-Matter    0.528    0.532   0.004      0.0497   *  \n"
     ]
    },
    {
     "data": {
      "application/vnd.jupyter.widget-view+json": {
       "model_id": "1d06da818550405392d662a211897a13",
       "version_major": 2,
       "version_minor": 0
      },
      "text/plain": [
       "Permutation test:   0%|          | 0/10000 [00:00<?, ? permutations/s]"
      ]
     },
     "metadata": {},
     "output_type": "display_data"
    },
    {
     "name": "stdout",
     "output_type": "stream",
     "text": [
      "words: pseudoinflected\n",
      "#   id     n_sources   location                      tstart   tstop   duration   p        sig\n",
      "---------------------------------------------------------------------------------------------\n",
      "0   1      517         ctx-lh-inferiortemporal       0.1      0.6     0.5        0        ***\n",
      "1   16     492         Unknown                       0.1      0.344   0.244      0        ***\n",
      "2   17     235         Unknown                       0.36     0.6     0.24       0.0002   ***\n",
      "3   536    3           Unknown                       0.224    0.284   0.06       0.0392   *  \n",
      "4   3078   1           Right-Cerebral-White-Matter   0.48     0.488   0.008      0.0469   *  \n"
     ]
    },
    {
     "data": {
      "application/vnd.jupyter.widget-view+json": {
       "model_id": "e5bc4c00f609457981ceba4f3a03ca1d",
       "version_major": 2,
       "version_minor": 0
      },
      "text/plain": [
       "Permutation test:   0%|          | 0/10000 [00:00<?, ? permutations/s]"
      ]
     },
     "metadata": {},
     "output_type": "display_data"
    },
    {
     "name": "stdout",
     "output_type": "stream",
     "text": [
      "words: pseudouninflected\n",
      "#   id     n_sources   location                      tstart   tstop   duration   p        sig\n",
      "---------------------------------------------------------------------------------------------\n",
      "0   1      532         ctx-lh-inferiortemporal       0.1      0.6     0.5        0.0001   ***\n",
      "1   11     515         Unknown                       0.1      0.38    0.28       0        ***\n",
      "2   13     340         Unknown                       0.384    0.6     0.216      0.0002   ***\n",
      "3   3024   1           Right-Cerebral-White-Matter   0.584    0.588   0.004      0.0499   *  \n",
      "4   3241   2           Unknown                       0.272    0.284   0.012      0.0459   *  \n",
      "5   3266   5           Right-Cerebral-White-Matter   0.512    0.556   0.044      0.0431   *  \n",
      "6   3541   1           ctx-rh-precentral             0.572    0.584   0.012      0.0472   *  \n",
      "7   3552   2           Unknown                       0.568    0.58    0.012      0.0433   *  \n"
     ]
    }
   ],
   "source": [
    "res_cache_file = f'  tfce young'\n",
    "res_cache_dir =\"~/Code/MEGAN/Tests/oneSample\"\n",
    "\n",
    "session='words'\n",
    "group='young'\n",
    "epochs= ['word-real','word-stem','word-inflected']\n",
    "#epoch word-real contains both realinflected and realuninflected\n",
    "\n",
    "conditions=['realinflected', 'realuninflected', 'pseudoinflected', 'pseudouninflected']\n",
    "\n",
    "# From Lexical column \n",
    "# resolution 5 does not generate mask error\t(low resolution like vol-10 generates error for mask detection\t\t\t\t\t\t\t\t\t\t\n",
    "e.set(epoch='word')\n",
    "stc_all = e.load_evoked_stc(\n",
    "    subjects=group, \n",
    "    baseline=False, \n",
    "    cov='emptyroom', \n",
    "    model='word % inflected',\n",
    "    src='vol-10',\n",
    "    inv='vec-3-MNE-0',\n",
    "    parc='aparc+aseg',\n",
    "\n",
    ")\n",
    "#data['srcm']\n",
    "#plot.Butterfly(data['srcm'].norm('space'))\n",
    "\n",
    "for cond in conditions:\n",
    "    \n",
    "   \n",
    "    data = stc_all.sub(f\"(lexical == '{cond}')\")\n",
    "    res = testnd.Vector('srcm', match='subject', data=data, tfce=True, tstart=tstart, tstop=tstop)\n",
    "    \n",
    "    \n",
    "    \n",
    "    save.pickle(res, res_cache_dir + cond + res_cache_file)\n",
    "    print(session + ': ' + cond + '\\n' + str(res.find_clusters()))\n",
    "    \n",
    "       "
   ]
  },
  {
   "cell_type": "code",
   "execution_count": 32,
   "id": "a3f88173-6663-4105-8433-2127723a760e",
   "metadata": {},
   "outputs": [
    {
     "ename": "ValueError",
     "evalue": "NDVar has no sensor dimension",
     "output_type": "error",
     "traceback": [
      "\u001b[31m---------------------------------------------------------------------------\u001b[39m",
      "\u001b[31mValueError\u001b[39m                                Traceback (most recent call last)",
      "\u001b[32m/var/folders/pp/j2npy4ld34j1k5hv3sb508qh0000gn/T/ipykernel_96602/1046083978.py\u001b[39m in \u001b[36m?\u001b[39m\u001b[34m()\u001b[39m\n\u001b[32m      3\u001b[39m \u001b[38;5;66;03m#p = plot.TopoButterfly(res, t=0.13, head_radius=0.35)\u001b[39;00m\n\u001b[32m      4\u001b[39m \u001b[38;5;66;03m#p = plot.TopoButterfly(res.tfce_map, t=0.13, head_radius=0.35)\u001b[39;00m\n\u001b[32m      5\u001b[39m \u001b[38;5;66;03m#plot.brain.cluster(res)\u001b[39;00m\n\u001b[32m      6\u001b[39m \u001b[38;5;66;03m#clus\u001b[39;00m\n\u001b[32m----> \u001b[39m\u001b[32m7\u001b[39m p = plot.TopoButterfly(clus[\u001b[32m0\u001b[39m, \u001b[33m'cluster'\u001b[39m], t=\u001b[32m0.13\u001b[39m, head_radius=\u001b[32m0.35\u001b[39m)\n",
      "\u001b[32m~/miniforge3/envs/eelbrain/lib/python3.12/site-packages/eelbrain/_utils/basic.py\u001b[39m in \u001b[36m?\u001b[39m\u001b[34m(ds, *args, **kwargs)\u001b[39m\n\u001b[32m    166\u001b[39m     \u001b[38;5;28;01mdef\u001b[39;00m new(*args, ds=\u001b[38;5;28;01mNone\u001b[39;00m, **kwargs):\n\u001b[32m    167\u001b[39m         \u001b[38;5;28;01mif\u001b[39;00m ds \u001b[38;5;28;01mis\u001b[39;00m \u001b[38;5;28;01mnot\u001b[39;00m \u001b[38;5;28;01mNone\u001b[39;00m:\n\u001b[32m    168\u001b[39m             warn(\u001b[33m\"The `ds` argument has been renamed to `data`. `ds` will stop working in Eelbrain 0.41.\"\u001b[39m, DeprecationWarning)\n\u001b[32m    169\u001b[39m             kwargs[\u001b[33m'data'\u001b[39m] = ds\n\u001b[32m--> \u001b[39m\u001b[32m170\u001b[39m         \u001b[38;5;28;01mreturn\u001b[39;00m func(*args, **kwargs)\n",
      "\u001b[32m~/miniforge3/envs/eelbrain/lib/python3.12/site-packages/eelbrain/plot/_topo.py\u001b[39m in \u001b[36m?\u001b[39m\u001b[34m(self, y, xax, data, sub, vmax, vmin, cmap, contours, color, linewidth, t, proj, res, interpolation, clip, clip_distance, head_radius, head_pos, im_interpolation, sensors, sensorlabels, mark, mcolor, xlabel, ylabel, xticklabels, yticklabels, axtitle, frame, xlim, **kwargs)\u001b[39m\n\u001b[32m    494\u001b[39m             frame: bool = \u001b[38;5;28;01mTrue\u001b[39;00m,\n\u001b[32m    495\u001b[39m             xlim: Union[float, Tuple[float, float]] = \u001b[38;5;28;01mNone\u001b[39;00m,\n\u001b[32m    496\u001b[39m             **kwargs,\n\u001b[32m    497\u001b[39m     ):\n\u001b[32m--> \u001b[39m\u001b[32m498\u001b[39m         plot_data = PlotData.from_args(y, (\u001b[33m'sensor'\u001b[39m, \u001b[38;5;28;01mNone\u001b[39;00m), xax, data, sub)\n\u001b[32m    499\u001b[39m         plot_data._cannot_skip_axes(self)\n\u001b[32m    500\u001b[39m         xdim = plot_data.dims[\u001b[32m1\u001b[39m]\n\u001b[32m    501\u001b[39m         self._topomap_data = plot_data.for_plot(PlotType.IMAGE)\n",
      "\u001b[32m~/miniforge3/envs/eelbrain/lib/python3.12/site-packages/eelbrain/plot/_base.py\u001b[39m in \u001b[36m?\u001b[39m\u001b[34m(cls, y, dims, xax, data, sub)\u001b[39m\n\u001b[32m   1169\u001b[39m                 \u001b[38;5;28;01mif\u001b[39;00m ax \u001b[38;5;28;01mis\u001b[39;00m \u001b[38;5;28;01mNone\u001b[39;00m:\n\u001b[32m   1170\u001b[39m                     axes.append(\u001b[38;5;28;01mNone\u001b[39;00m)\n\u001b[32m   1171\u001b[39m                 \u001b[38;5;28;01melif\u001b[39;00m isinstance(ax, NDVarTypes):\n\u001b[32m   1172\u001b[39m                     ax = asndvar(ax, sub, data)\n\u001b[32m-> \u001b[39m\u001b[32m1173\u001b[39m                     agg, dims = find_data_dims(ax, dims)\n\u001b[32m   1174\u001b[39m                     layer = aggregate(ax, agg)\n\u001b[32m   1175\u001b[39m                     axes.append([layer])\n\u001b[32m   1176\u001b[39m                 \u001b[38;5;28;01melse\u001b[39;00m:\n",
      "\u001b[32m~/miniforge3/envs/eelbrain/lib/python3.12/site-packages/eelbrain/plot/_base.py\u001b[39m in \u001b[36m?\u001b[39m\u001b[34m(ndvar, dims, extra_dim)\u001b[39m\n\u001b[32m    635\u001b[39m     \u001b[38;5;28;01melse\u001b[39;00m:\n\u001b[32m    636\u001b[39m         required_dims = (extra_dim, *dims) \u001b[38;5;28;01mif\u001b[39;00m extra_dim \u001b[38;5;28;01melse\u001b[39;00m dims\n\u001b[32m    637\u001b[39m         \u001b[38;5;28;01mif\u001b[39;00m ndvar.ndim == len(required_dims):\n\u001b[32m    638\u001b[39m             agg = \u001b[38;5;28;01mNone\u001b[39;00m\n\u001b[32m--> \u001b[39m\u001b[32m639\u001b[39m             dimnames = list(ndvar.get_dimnames(required_dims))\n\u001b[32m    640\u001b[39m         \u001b[38;5;28;01melif\u001b[39;00m ndvar.ndim == len(required_dims) + \u001b[32m1\u001b[39m:\n\u001b[32m    641\u001b[39m             \u001b[38;5;28;01mif\u001b[39;00m any(d \u001b[38;5;28;01mis\u001b[39;00m \u001b[38;5;28;01mNone\u001b[39;00m \u001b[38;5;28;01mfor\u001b[39;00m d \u001b[38;5;28;01min\u001b[39;00m required_dims):\n\u001b[32m    642\u001b[39m                 \u001b[38;5;28;01mif\u001b[39;00m ndvar.has_case \u001b[38;5;28;01mand\u001b[39;00m \u001b[33m'case'\u001b[39m \u001b[38;5;28;01mnot\u001b[39;00m \u001b[38;5;28;01min\u001b[39;00m required_dims:\n",
      "\u001b[32m~/miniforge3/envs/eelbrain/lib/python3.12/site-packages/eelbrain/_data_obj.py\u001b[39m in \u001b[36m?\u001b[39m\u001b[34m(self, names, first, last)\u001b[39m\n\u001b[32m   4485\u001b[39m         \u001b[38;5;28;01mfor\u001b[39;00m i \u001b[38;5;28;01min\u001b[39;00m range(len(out)):\n\u001b[32m   4486\u001b[39m             \u001b[38;5;28;01mif\u001b[39;00m out[i] \u001b[38;5;28;01mis\u001b[39;00m \u001b[38;5;28;01mNone\u001b[39;00m:\n\u001b[32m   4487\u001b[39m                 out[i] = dims.pop(\u001b[32m0\u001b[39m)\n\u001b[32m   4488\u001b[39m             \u001b[38;5;28;01melif\u001b[39;00m out[i] \u001b[38;5;28;01mnot\u001b[39;00m \u001b[38;5;28;01min\u001b[39;00m self.dimnames:\n\u001b[32m-> \u001b[39m\u001b[32m4489\u001b[39m                 \u001b[38;5;28;01mraise\u001b[39;00m ValueError(f\"NDVar has no {out[i]} dimension\")\n\u001b[32m   4490\u001b[39m         \u001b[38;5;28;01mif\u001b[39;00m len(set(out)) != len(out):\n\u001b[32m   4491\u001b[39m             arg_repr = f'{names!r}' \u001b[38;5;28;01mif\u001b[39;00m names \u001b[38;5;28;01melse\u001b[39;00m f\"first={first!r}, last={last!r}\"\n\u001b[32m   4492\u001b[39m             \u001b[38;5;28;01mraise\u001b[39;00m ValueError(f\"{arg_repr}: duplicate name\")\n",
      "\u001b[31mValueError\u001b[39m: NDVar has no sensor dimension"
     ]
    }
   ],
   "source": [
    "clus=res.find_clusters(0.05, maps=True)\n",
    "#res.plot_clusters()\n",
    "#p = plot.TopoButterfly(res, t=0.13, head_radius=0.35)\n",
    "#p = plot.TopoButterfly(res.tfce_map, t=0.13, head_radius=0.35)\n",
    "#plot.brain.cluster(res)\n",
    "#clus\n",
    "p = plot.TopoButterfly(clus[0, 'cluster'], t=0.13, head_radius=0.35)"
   ]
  },
  {
   "cell_type": "markdown",
   "id": "a6ef91b8-5351-4b7e-ba8e-8a9c9d5afe1a",
   "metadata": {},
   "source": [
    "# Paired Tests\n",
    "## Inside "
   ]
  },
  {
   "cell_type": "code",
   "execution_count": 33,
   "id": "e3e04628-b467-4e18-bd77-aa61f7fca4e3",
   "metadata": {},
   "outputs": [
    {
     "ename": "ValueError",
     "evalue": "cat=(None, None) for x with x.cells=('n', 'SOA', 'subject', 'session', 'visit', 'group', 'word', 'inflected', 'lexical', 'srcm'): categories in cat can only be specified as None if all cells in x are used",
     "output_type": "error",
     "traceback": [
      "\u001b[31m---------------------------------------------------------------------------\u001b[39m",
      "\u001b[31mValueError\u001b[39m                                Traceback (most recent call last)",
      "\u001b[36mCell\u001b[39m\u001b[36m \u001b[39m\u001b[32mIn[33]\u001b[39m\u001b[32m, line 7\u001b[39m\n\u001b[32m      4\u001b[39m real_infl_stc = stc_all.sub(\u001b[33mf\u001b[39m\u001b[33m\"\u001b[39m\u001b[33m(lexical == \u001b[39m\u001b[33m'\u001b[39m\u001b[38;5;132;01m{\u001b[39;00mcond1\u001b[38;5;132;01m}\u001b[39;00m\u001b[33m'\u001b[39m\u001b[33m)\u001b[39m\u001b[33m\"\u001b[39m)\n\u001b[32m      5\u001b[39m pseudo_infl_stc = stc_all.sub(\u001b[33mf\u001b[39m\u001b[33m\"\u001b[39m\u001b[33m(lexical == \u001b[39m\u001b[33m'\u001b[39m\u001b[38;5;132;01m{\u001b[39;00mcond2\u001b[38;5;132;01m}\u001b[39;00m\u001b[33m'\u001b[39m\u001b[33m)\u001b[39m\u001b[33m\"\u001b[39m)\n\u001b[32m----> \u001b[39m\u001b[32m7\u001b[39m res = \u001b[43mtestnd\u001b[49m\u001b[43m.\u001b[49m\u001b[43mVectorDifferenceRelated\u001b[49m\u001b[43m(\u001b[49m\u001b[43mreal_infl_stc\u001b[49m\u001b[43m,\u001b[49m\u001b[43mpseudo_infl_stc\u001b[49m\u001b[43m,\u001b[49m\u001b[43m \u001b[49m\u001b[43mmatch\u001b[49m\u001b[43m=\u001b[49m\u001b[33;43m'\u001b[39;49m\u001b[33;43msubject\u001b[39;49m\u001b[33;43m'\u001b[39;49m\u001b[43m,\u001b[49m\u001b[43m \u001b[49m\u001b[43mdata\u001b[49m\u001b[43m=\u001b[49m\u001b[43mdata\u001b[49m\u001b[43m,\u001b[49m\u001b[43m \u001b[49m\u001b[43mtfce\u001b[49m\u001b[43m=\u001b[49m\u001b[38;5;28;43;01mTrue\u001b[39;49;00m\u001b[43m,\u001b[49m\u001b[43m \u001b[49m\u001b[43mtstart\u001b[49m\u001b[43m=\u001b[49m\u001b[43mtstart\u001b[49m\u001b[43m,\u001b[49m\u001b[43m \u001b[49m\u001b[43mtstop\u001b[49m\u001b[43m=\u001b[49m\u001b[43mtstop\u001b[49m\u001b[43m)\u001b[49m\n",
      "\u001b[36mFile \u001b[39m\u001b[32m~/miniforge3/envs/eelbrain/lib/python3.12/contextlib.py:81\u001b[39m, in \u001b[36mContextDecorator.__call__.<locals>.inner\u001b[39m\u001b[34m(*args, **kwds)\u001b[39m\n\u001b[32m     78\u001b[39m \u001b[38;5;129m@wraps\u001b[39m(func)\n\u001b[32m     79\u001b[39m \u001b[38;5;28;01mdef\u001b[39;00m\u001b[38;5;250m \u001b[39m\u001b[34minner\u001b[39m(*args, **kwds):\n\u001b[32m     80\u001b[39m     \u001b[38;5;28;01mwith\u001b[39;00m \u001b[38;5;28mself\u001b[39m._recreate_cm():\n\u001b[32m---> \u001b[39m\u001b[32m81\u001b[39m         \u001b[38;5;28;01mreturn\u001b[39;00m \u001b[43mfunc\u001b[49m\u001b[43m(\u001b[49m\u001b[43m*\u001b[49m\u001b[43margs\u001b[49m\u001b[43m,\u001b[49m\u001b[43m \u001b[49m\u001b[43m*\u001b[49m\u001b[43m*\u001b[49m\u001b[43mkwds\u001b[49m\u001b[43m)\u001b[49m\n",
      "\u001b[36mFile \u001b[39m\u001b[32m~/miniforge3/envs/eelbrain/lib/python3.12/site-packages/eelbrain/_utils/basic.py:170\u001b[39m, in \u001b[36mdeprecate_ds_arg.<locals>.new\u001b[39m\u001b[34m(ds, *args, **kwargs)\u001b[39m\n\u001b[32m    168\u001b[39m     warn(\u001b[33m\"\u001b[39m\u001b[33mThe `ds` argument has been renamed to `data`. `ds` will stop working in Eelbrain 0.41.\u001b[39m\u001b[33m\"\u001b[39m, \u001b[38;5;167;01mDeprecationWarning\u001b[39;00m)\n\u001b[32m    169\u001b[39m     kwargs[\u001b[33m'\u001b[39m\u001b[33mdata\u001b[39m\u001b[33m'\u001b[39m] = ds\n\u001b[32m--> \u001b[39m\u001b[32m170\u001b[39m \u001b[38;5;28;01mreturn\u001b[39;00m \u001b[43mfunc\u001b[49m\u001b[43m(\u001b[49m\u001b[43m*\u001b[49m\u001b[43margs\u001b[49m\u001b[43m,\u001b[49m\u001b[43m \u001b[49m\u001b[43m*\u001b[49m\u001b[43m*\u001b[49m\u001b[43mkwargs\u001b[49m\u001b[43m)\u001b[49m\n",
      "\u001b[36mFile \u001b[39m\u001b[32m~/miniforge3/envs/eelbrain/lib/python3.12/site-packages/eelbrain/_stats/testnd.py:2462\u001b[39m, in \u001b[36mVectorDifferenceRelated.__init__\u001b[39m\u001b[34m(self, y, x, c1, c0, match, sub, data, samples, tmin, tfce, tstart, tstop, parc, force_permutation, norm, **criteria)\u001b[39m\n\u001b[32m   2441\u001b[39m \u001b[38;5;129m@user_activity\u001b[39m\n\u001b[32m   2442\u001b[39m \u001b[38;5;129m@deprecate_ds_arg\u001b[39m\n\u001b[32m   2443\u001b[39m \u001b[38;5;28;01mdef\u001b[39;00m\u001b[38;5;250m \u001b[39m\u001b[34m__init__\u001b[39m(\n\u001b[32m   (...)\u001b[39m\u001b[32m   2459\u001b[39m         norm: \u001b[38;5;28mbool\u001b[39m = \u001b[38;5;28;01mFalse\u001b[39;00m,\n\u001b[32m   2460\u001b[39m         **criteria):\n\u001b[32m   2461\u001b[39m     use_norm = \u001b[38;5;28mbool\u001b[39m(norm)\n\u001b[32m-> \u001b[39m\u001b[32m2462\u001b[39m     y1, y0, c1, c0, match, n, x_name, c1_name, c0_name = \u001b[43m_related_measures_args\u001b[49m\u001b[43m(\u001b[49m\u001b[43my\u001b[49m\u001b[43m,\u001b[49m\u001b[43m \u001b[49m\u001b[43mx\u001b[49m\u001b[43m,\u001b[49m\u001b[43m \u001b[49m\u001b[43mc1\u001b[49m\u001b[43m,\u001b[49m\u001b[43m \u001b[49m\u001b[43mc0\u001b[49m\u001b[43m,\u001b[49m\u001b[43m \u001b[49m\u001b[43mmatch\u001b[49m\u001b[43m,\u001b[49m\u001b[43m \u001b[49m\u001b[43mdata\u001b[49m\u001b[43m,\u001b[49m\u001b[43m \u001b[49m\u001b[43msub\u001b[49m\u001b[43m,\u001b[49m\u001b[43m \u001b[49m\u001b[38;5;28;43;01mTrue\u001b[39;49;00m\u001b[43m)\u001b[49m\n\u001b[32m   2463\u001b[39m     difference = y1 - y0\n\u001b[32m   2464\u001b[39m     difference.name = \u001b[33m'\u001b[39m\u001b[33mdifference\u001b[39m\u001b[33m'\u001b[39m\n",
      "\u001b[36mFile \u001b[39m\u001b[32m~/miniforge3/envs/eelbrain/lib/python3.12/site-packages/eelbrain/_stats/test.py:438\u001b[39m, in \u001b[36m_related_measures_args\u001b[39m\u001b[34m(y, x, c1, c0, match, ds, sub, nd_data)\u001b[39m\n\u001b[32m    436\u001b[39m     \u001b[38;5;28;01mraise\u001b[39;00m \u001b[38;5;167;01mTypeError\u001b[39;00m(\u001b[33m\"\u001b[39m\u001b[33mThe `match` argument needs to be specified for related measures tests\u001b[39m\u001b[33m\"\u001b[39m)\n\u001b[32m    437\u001b[39m \u001b[38;5;28;01melse\u001b[39;00m:\n\u001b[32m--> \u001b[39m\u001b[32m438\u001b[39m     ct = \u001b[43mCelltable\u001b[49m\u001b[43m(\u001b[49m\u001b[43my\u001b[49m\u001b[43m,\u001b[49m\u001b[43m \u001b[49m\u001b[43mx\u001b[49m\u001b[43m,\u001b[49m\u001b[43m \u001b[49m\u001b[43mmatch\u001b[49m\u001b[43m,\u001b[49m\u001b[43m \u001b[49m\u001b[43msub\u001b[49m\u001b[43m,\u001b[49m\u001b[43m \u001b[49m\u001b[43mcat\u001b[49m\u001b[43m=\u001b[49m\u001b[43m(\u001b[49m\u001b[43mc1\u001b[49m\u001b[43m,\u001b[49m\u001b[43m \u001b[49m\u001b[43mc0\u001b[49m\u001b[43m)\u001b[49m\u001b[43m,\u001b[49m\u001b[43m \u001b[49m\u001b[43mdata\u001b[49m\u001b[43m=\u001b[49m\u001b[43mds\u001b[49m\u001b[43m,\u001b[49m\u001b[43m \u001b[49m\u001b[43mcoercion\u001b[49m\u001b[43m=\u001b[49m\u001b[43mcoerce\u001b[49m\u001b[43m,\u001b[49m\u001b[43m \u001b[49m\u001b[43mdtype\u001b[49m\u001b[43m=\u001b[49m\u001b[43mnp\u001b[49m\u001b[43m.\u001b[49m\u001b[43mfloat64\u001b[49m\u001b[43m)\u001b[49m\n\u001b[32m    439\u001b[39m     c1, c0 = ct.cat\n\u001b[32m    440\u001b[39m     c1_name = c1\n",
      "\u001b[36mFile \u001b[39m\u001b[32m~/miniforge3/envs/eelbrain/lib/python3.12/site-packages/eelbrain/_celltable.py:121\u001b[39m, in \u001b[36mCelltable.__init__\u001b[39m\u001b[34m(self, y, x, match, sub, cat, data, coercion, dtype)\u001b[39m\n\u001b[32m    119\u001b[39m         \u001b[38;5;28;01mraise\u001b[39;00m \u001b[38;5;167;01mValueError\u001b[39;00m(\u001b[33mf\u001b[39m\u001b[33m\"\u001b[39m\u001b[38;5;132;01m{\u001b[39;00mcat\u001b[38;5;132;01m=}\u001b[39;00m\u001b[33m for x with \u001b[39m\u001b[38;5;132;01m{\u001b[39;00mx.cells\u001b[38;5;132;01m=}\u001b[39;00m\u001b[33m: more categories than cells\u001b[39m\u001b[33m\"\u001b[39m)\n\u001b[32m    120\u001b[39m     \u001b[38;5;28;01melse\u001b[39;00m:\n\u001b[32m--> \u001b[39m\u001b[32m121\u001b[39m         \u001b[38;5;28;01mraise\u001b[39;00m \u001b[38;5;167;01mValueError\u001b[39;00m(\u001b[33mf\u001b[39m\u001b[33m\"\u001b[39m\u001b[38;5;132;01m{\u001b[39;00mcat\u001b[38;5;132;01m=}\u001b[39;00m\u001b[33m for x with \u001b[39m\u001b[38;5;132;01m{\u001b[39;00mx.cells\u001b[38;5;132;01m=}\u001b[39;00m\u001b[33m: categories in cat can only be specified as None if all cells in x are used\u001b[39m\u001b[33m\"\u001b[39m)\n\u001b[32m    123\u001b[39m \u001b[38;5;66;03m# make sure all categories are in data\u001b[39;00m\n\u001b[32m    124\u001b[39m \u001b[38;5;28;01mif\u001b[39;00m missing := [\u001b[38;5;28mrepr\u001b[39m(c) \u001b[38;5;28;01mfor\u001b[39;00m c \u001b[38;5;129;01min\u001b[39;00m cat \u001b[38;5;28;01mif\u001b[39;00m c \u001b[38;5;129;01mnot\u001b[39;00m \u001b[38;5;129;01min\u001b[39;00m x.cells]:\n",
      "\u001b[31mValueError\u001b[39m: cat=(None, None) for x with x.cells=('n', 'SOA', 'subject', 'session', 'visit', 'group', 'word', 'inflected', 'lexical', 'srcm'): categories in cat can only be specified as None if all cells in x are used"
     ]
    }
   ],
   "source": [
    "contrast = ['realinflected-pseudouninflected']\n",
    "cond1, cond2 = contrast[0].split('-')\n",
    "\n",
    "real_infl_stc = stc_all.sub(f\"(lexical == '{cond1}')\")\n",
    "pseudo_infl_stc = stc_all.sub(f\"(lexical == '{cond2}')\")\n",
    "\n",
    "res = testnd.VectorDifferenceRelated(real_infl_stc,pseudo_infl_stc, match='subject', data=data, tfce=True, tstart=tstart, tstop=tstop)"
   ]
  },
  {
   "cell_type": "code",
   "execution_count": null,
   "id": "da4c0f6a-a0b3-414d-9326-62b120424834",
   "metadata": {},
   "outputs": [],
   "source": []
  }
 ],
 "metadata": {
  "jupytext": {
   "formats": "ipynb,py:percent"
  },
  "kernelspec": {
   "display_name": "Python 3 (ipykernel)",
   "language": "python",
   "name": "python3"
  },
  "language_info": {
   "codemirror_mode": {
    "name": "ipython",
    "version": 3
   },
   "file_extension": ".py",
   "mimetype": "text/x-python",
   "name": "python",
   "nbconvert_exporter": "python",
   "pygments_lexer": "ipython3",
   "version": "3.12.10"
  }
 },
 "nbformat": 4,
 "nbformat_minor": 5
}
