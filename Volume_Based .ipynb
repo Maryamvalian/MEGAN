{
 "cells": [
  {
   "cell_type": "code",
   "execution_count": 1,
   "id": "c20b0887-dd04-4658-96b2-decd25e58833",
   "metadata": {},
   "outputs": [
    {
     "name": "stdout",
     "output_type": "stream",
     "text": [
      "INFO    :  *** Experiment initialized with root /Users/maryamvalian/Data on 2025-04-30 17:30:43 ***\n",
      "INFO    :  Using eelbrain 0.40.3, mne 1.9.0.\n",
      "DEBUG   :  Outdated cache files:\n",
      "DEBUG   :  No existing cache files affected.\n"
     ]
    }
   ],
   "source": [
    "from pathlib import Path\n",
    "from eelbrain import *\n",
    "from matplotlib import pyplot\n",
    "import mne\n",
    "import numpy\n",
    "import re\n",
    "\n",
    "\n",
    "%run experiment.py           #e is the experiment object"
   ]
  },
  {
   "cell_type": "code",
   "execution_count": 2,
   "id": "689f2a58-ffb7-4a98-bfb3-ab074c9716da",
   "metadata": {},
   "outputs": [
    {
     "data": {
      "application/vnd.jupyter.widget-view+json": {
       "model_id": "2996cb5ffea846b0b0ca348bb113e1f5",
       "version_major": 2,
       "version_minor": 0
      },
      "text/plain": [
       "Localize:   0%|          | 0/56 [00:00<?, ?it/s]"
      ]
     },
     "metadata": {},
     "output_type": "display_data"
    }
   ],
   "source": [
    "word_young = e.load_evoked_stc('young', epoch='word', model='word % inflected'\n",
    "       , src='vol-7', inv='vec-3-MNE-0', parc='aparc+aseg')"
   ]
  },
  {
   "cell_type": "code",
   "execution_count": 3,
   "id": "128d8174-5ab6-4e57-8bfd-cde5b357d8fc",
   "metadata": {},
   "outputs": [],
   "source": [
    "#plot.GlassBrain.butterfly(word_young['srcm'].mean('case'), cmap='Reds')"
   ]
  },
  {
   "cell_type": "code",
   "execution_count": 4,
   "id": "36350d82-f591-4d24-adf9-8306175349ee",
   "metadata": {},
   "outputs": [
    {
     "data": {
      "application/vnd.jupyter.widget-view+json": {
       "model_id": "157c871752c844b2b50f98c819c3bbcc",
       "version_major": 2,
       "version_minor": 0
      },
      "text/plain": [
       "Localize:   0%|          | 0/36 [00:00<?, ?it/s]"
      ]
     },
     "metadata": {},
     "output_type": "display_data"
    }
   ],
   "source": [
    "word_old = e.load_evoked_stc('old', epoch='word', model='word % inflected'\n",
    "       , src='vol-7', inv='vec-3-MNE-0', parc='aparc+aseg')"
   ]
  },
  {
   "cell_type": "code",
   "execution_count": 5,
   "id": "0187bebe-b8af-406e-9b82-dab31bff2995",
   "metadata": {},
   "outputs": [
    {
     "data": {
      "application/vnd.jupyter.widget-view+json": {
       "model_id": "aff269113c0c4c3a9a324be4fede8517",
       "version_major": 2,
       "version_minor": 0
      },
      "text/plain": [
       "Localize:   0%|          | 0/24 [00:00<?, ?it/s]"
      ]
     },
     "metadata": {},
     "output_type": "display_data"
    }
   ],
   "source": [
    "word_aphasia = e.load_evoked_stc('aphasia', epoch='word', model='word % inflected'\n",
    "       , src='vol-7', inv='vec-3-MNE-0', parc='aparc+aseg')"
   ]
  },
  {
   "cell_type": "code",
   "execution_count": 7,
   "id": "ebe590b4-7529-44d4-b398-91ab70de23b6",
   "metadata": {},
   "outputs": [],
   "source": [
    "ds= combine(word_aphasia, word_young)\n",
    "             "
   ]
  },
  {
   "cell_type": "code",
   "execution_count": 9,
   "id": "898ff026-d538-4c9d-a0a7-10b231fa0993",
   "metadata": {},
   "outputs": [
    {
     "ename": "AttributeError",
     "evalue": "'Factor' object has no attribute 'eval'",
     "output_type": "error",
     "traceback": [
      "\u001b[31m---------------------------------------------------------------------------\u001b[39m",
      "\u001b[31mAttributeError\u001b[39m                            Traceback (most recent call last)",
      "\u001b[36mCell\u001b[39m\u001b[36m \u001b[39m\u001b[32mIn[9]\u001b[39m\u001b[32m, line 1\u001b[39m\n\u001b[32m----> \u001b[39m\u001b[32m1\u001b[39m t_stat_result = \u001b[43mtestnd\u001b[49m\u001b[43m.\u001b[49m\u001b[43mTTestIndependent\u001b[49m\u001b[43m(\u001b[49m\n\u001b[32m      2\u001b[39m \u001b[43m    \u001b[49m\u001b[33;43m'\u001b[39;49m\u001b[33;43meeg\u001b[39;49m\u001b[33;43m'\u001b[39;49m\u001b[43m,\u001b[49m\u001b[43m \u001b[49m\u001b[33;43m'\u001b[39;49m\u001b[33;43mgroup\u001b[39;49m\u001b[33;43m'\u001b[39;49m\u001b[43m,\u001b[49m\u001b[43m \u001b[49m\u001b[33;43m'\u001b[39;49m\u001b[33;43maphasia\u001b[39;49m\u001b[33;43m'\u001b[39;49m\u001b[43m,\u001b[49m\u001b[43m \u001b[49m\u001b[33;43m'\u001b[39;49m\u001b[33;43myoung\u001b[39;49m\u001b[33;43m'\u001b[39;49m\u001b[43m,\u001b[49m\u001b[43m \u001b[49m\u001b[43mmatch\u001b[49m\u001b[43m=\u001b[49m\u001b[38;5;28;43;01mNone\u001b[39;49;00m\u001b[43m,\u001b[49m\u001b[43m \u001b[49m\u001b[43mdata\u001b[49m\u001b[43m=\u001b[49m\u001b[43mds\u001b[49m\u001b[43m,\u001b[49m\n\u001b[32m      3\u001b[39m \u001b[43m    \u001b[49m\u001b[43mpmin\u001b[49m\u001b[43m=\u001b[49m\u001b[32;43m0.05\u001b[39;49m\u001b[43m,\u001b[49m\u001b[43m  \u001b[49m\n\u001b[32m      4\u001b[39m \u001b[43m    \u001b[49m\u001b[43mtstart\u001b[49m\u001b[43m=\u001b[49m\u001b[32;43m0.100\u001b[39;49m\u001b[43m,\u001b[49m\u001b[43m  \u001b[49m\n\u001b[32m      5\u001b[39m \u001b[43m    \u001b[49m\u001b[43mtstop\u001b[49m\u001b[43m=\u001b[49m\u001b[32;43m0.600\u001b[39;49m\u001b[43m   \u001b[49m\n\u001b[32m      6\u001b[39m \u001b[43m)\u001b[49m\n",
      "\u001b[36mFile \u001b[39m\u001b[32m~/miniforge3/envs/eelbrain/lib/python3.12/contextlib.py:81\u001b[39m, in \u001b[36mContextDecorator.__call__.<locals>.inner\u001b[39m\u001b[34m(*args, **kwds)\u001b[39m\n\u001b[32m     78\u001b[39m \u001b[38;5;129m@wraps\u001b[39m(func)\n\u001b[32m     79\u001b[39m \u001b[38;5;28;01mdef\u001b[39;00m\u001b[38;5;250m \u001b[39m\u001b[34minner\u001b[39m(*args, **kwds):\n\u001b[32m     80\u001b[39m     \u001b[38;5;28;01mwith\u001b[39;00m \u001b[38;5;28mself\u001b[39m._recreate_cm():\n\u001b[32m---> \u001b[39m\u001b[32m81\u001b[39m         \u001b[38;5;28;01mreturn\u001b[39;00m \u001b[43mfunc\u001b[49m\u001b[43m(\u001b[49m\u001b[43m*\u001b[49m\u001b[43margs\u001b[49m\u001b[43m,\u001b[49m\u001b[43m \u001b[49m\u001b[43m*\u001b[49m\u001b[43m*\u001b[49m\u001b[43mkwds\u001b[49m\u001b[43m)\u001b[49m\n",
      "\u001b[36mFile \u001b[39m\u001b[32m~/miniforge3/envs/eelbrain/lib/python3.12/site-packages/eelbrain/_utils/basic.py:170\u001b[39m, in \u001b[36mdeprecate_ds_arg.<locals>.new\u001b[39m\u001b[34m(ds, *args, **kwargs)\u001b[39m\n\u001b[32m    168\u001b[39m     warn(\u001b[33m\"\u001b[39m\u001b[33mThe `ds` argument has been renamed to `data`. `ds` will stop working in Eelbrain 0.41.\u001b[39m\u001b[33m\"\u001b[39m, \u001b[38;5;167;01mDeprecationWarning\u001b[39;00m)\n\u001b[32m    169\u001b[39m     kwargs[\u001b[33m'\u001b[39m\u001b[33mdata\u001b[39m\u001b[33m'\u001b[39m] = ds\n\u001b[32m--> \u001b[39m\u001b[32m170\u001b[39m \u001b[38;5;28;01mreturn\u001b[39;00m \u001b[43mfunc\u001b[49m\u001b[43m(\u001b[49m\u001b[43m*\u001b[49m\u001b[43margs\u001b[49m\u001b[43m,\u001b[49m\u001b[43m \u001b[49m\u001b[43m*\u001b[49m\u001b[43m*\u001b[49m\u001b[43mkwargs\u001b[49m\u001b[43m)\u001b[49m\n",
      "\u001b[36mFile \u001b[39m\u001b[32m~/miniforge3/envs/eelbrain/lib/python3.12/site-packages/eelbrain/_stats/testnd.py:1172\u001b[39m, in \u001b[36mTTestIndependent.__init__\u001b[39m\u001b[34m(self, y, x, c1, c0, match, sub, data, tail, samples, pmin, tmin, tfce, tstart, tstop, parc, force_permutation, **criteria)\u001b[39m\n\u001b[32m   1151\u001b[39m \u001b[38;5;129m@user_activity\u001b[39m\n\u001b[32m   1152\u001b[39m \u001b[38;5;129m@deprecate_ds_arg\u001b[39m\n\u001b[32m   1153\u001b[39m \u001b[38;5;28;01mdef\u001b[39;00m\u001b[38;5;250m \u001b[39m\u001b[34m__init__\u001b[39m(\n\u001b[32m   (...)\u001b[39m\u001b[32m   1170\u001b[39m         force_permutation: \u001b[38;5;28mbool\u001b[39m = \u001b[38;5;28;01mFalse\u001b[39;00m,\n\u001b[32m   1171\u001b[39m         **criteria):\n\u001b[32m-> \u001b[39m\u001b[32m1172\u001b[39m     y, y1, y0, c1, c0, match, x_name, c1_name, c0_name = \u001b[43m_independent_measures_args\u001b[49m\u001b[43m(\u001b[49m\u001b[43my\u001b[49m\u001b[43m,\u001b[49m\u001b[43m \u001b[49m\u001b[43mx\u001b[49m\u001b[43m,\u001b[49m\u001b[43m \u001b[49m\u001b[43mc1\u001b[49m\u001b[43m,\u001b[49m\u001b[43m \u001b[49m\u001b[43mc0\u001b[49m\u001b[43m,\u001b[49m\u001b[43m \u001b[49m\u001b[43mmatch\u001b[49m\u001b[43m,\u001b[49m\u001b[43m \u001b[49m\u001b[43mdata\u001b[49m\u001b[43m,\u001b[49m\u001b[43m \u001b[49m\u001b[43msub\u001b[49m\u001b[43m,\u001b[49m\u001b[43m \u001b[49m\u001b[38;5;28;43;01mTrue\u001b[39;49;00m\u001b[43m)\u001b[49m\n\u001b[32m   1173\u001b[39m     check_for_vector_dim(y)\n\u001b[32m   1175\u001b[39m     n1 = \u001b[38;5;28mlen\u001b[39m(y1)\n",
      "\u001b[36mFile \u001b[39m\u001b[32m~/miniforge3/envs/eelbrain/lib/python3.12/site-packages/eelbrain/_stats/test.py:383\u001b[39m, in \u001b[36m_independent_measures_args\u001b[39m\u001b[34m(y, x, c1, c0, match, ds, sub, nd_data)\u001b[39m\n\u001b[32m    381\u001b[39m \u001b[33m\"\u001b[39m\u001b[33mInterpret parameters for independent measures tests (2 different argspecs)\u001b[39m\u001b[33m\"\u001b[39m\n\u001b[32m    382\u001b[39m \u001b[38;5;28;01mif\u001b[39;00m \u001b[38;5;28misinstance\u001b[39m(x, \u001b[38;5;28mstr\u001b[39m):\n\u001b[32m--> \u001b[39m\u001b[32m383\u001b[39m     x = \u001b[43mds\u001b[49m\u001b[43m.\u001b[49m\u001b[43meval\u001b[49m(x)\n\u001b[32m    385\u001b[39m \u001b[38;5;28;01mif\u001b[39;00m nd_data:\n\u001b[32m    386\u001b[39m     two_y = \u001b[38;5;28misinstance\u001b[39m(x, NDVar)\n",
      "\u001b[31mAttributeError\u001b[39m: 'Factor' object has no attribute 'eval'"
     ]
    }
   ],
   "source": [
    "t_stat_result = testnd.TTestIndependent(\n",
    "    'eeg', 'group', 'aphasia', 'young', match=None, data=ds,\n",
    "    pmin=0.05,  \n",
    "    tstart=0.100,  \n",
    "    tstop=0.600   \n",
    ")\n"
   ]
  },
  {
   "cell_type": "code",
   "execution_count": null,
   "id": "251e4c62-95a0-492c-bc82-9f3a88af5b67",
   "metadata": {},
   "outputs": [],
   "source": []
  }
 ],
 "metadata": {
  "jupytext": {
   "formats": "ipynb,py:percent"
  },
  "kernelspec": {
   "display_name": "Python 3 (ipykernel)",
   "language": "python",
   "name": "python3"
  },
  "language_info": {
   "codemirror_mode": {
    "name": "ipython",
    "version": 3
   },
   "file_extension": ".py",
   "mimetype": "text/x-python",
   "name": "python",
   "nbconvert_exporter": "python",
   "pygments_lexer": "ipython3",
   "version": "3.12.10"
  }
 },
 "nbformat": 4,
 "nbformat_minor": 5
}
