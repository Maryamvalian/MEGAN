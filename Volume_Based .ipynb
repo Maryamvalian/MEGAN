{
 "cells": [
  {
   "cell_type": "code",
   "execution_count": 1,
   "id": "c20b0887-dd04-4658-96b2-decd25e58833",
   "metadata": {},
   "outputs": [
    {
     "name": "stdout",
     "output_type": "stream",
     "text": [
      "INFO    :  *** Experiment initialized with root /Users/maryamvalian/Data/Aphasia on 2025-05-12 18:57:12 ***\n",
      "INFO    :  Using eelbrain 0.40.3, mne 1.9.0.\n",
      "DEBUG   :  Outdated cache files:\n",
      "DEBUG   :  No existing cache files affected.\n"
     ]
    }
   ],
   "source": [
    "from pathlib import Path\n",
    "from eelbrain import *\n",
    "from matplotlib import pyplot\n",
    "import mne\n",
    "import numpy\n",
    "import re\n",
    "\n",
    "\n",
    "%run experiment.py           #e is the experiment object"
   ]
  },
  {
   "cell_type": "code",
   "execution_count": 2,
   "id": "c9f60470-4739-47a2-a795-12b51cd40542",
   "metadata": {},
   "outputs": [
    {
     "name": "stdout",
     "output_type": "stream",
     "text": [
      "DEBUG   :  Raw n-ica: applying ICA for R0240/words...\n"
     ]
    }
   ],
   "source": [
    "epochs=e.load_epochs(epoch='word-real')\n",
    "#epochs"
   ]
  },
  {
   "cell_type": "code",
   "execution_count": 3,
   "id": "689f2a58-ffb7-4a98-bfb3-ab074c9716da",
   "metadata": {},
   "outputs": [],
   "source": [
    "#word_young = e.load_evoked_stc('young', epoch='word', model='word % inflected'\n",
    "#       , src='vol-5', inv='vec-3-MNE-0', parc='aparc+aseg')"
   ]
  },
  {
   "cell_type": "code",
   "execution_count": 4,
   "id": "128d8174-5ab6-4e57-8bfd-cde5b357d8fc",
   "metadata": {},
   "outputs": [],
   "source": [
    "#plot.GlassBrain.butterfly(word_young['srcm'].mean('case'), cmap='Reds')"
   ]
  },
  {
   "cell_type": "code",
   "execution_count": 5,
   "id": "36350d82-f591-4d24-adf9-8306175349ee",
   "metadata": {},
   "outputs": [],
   "source": [
    "#word_old = e.load_evoked_stc('old', epoch='word', model='word % inflected'\n",
    "#       , src='vol-5', inv='vec-3-MNE-0', parc='aparc+aseg')"
   ]
  },
  {
   "cell_type": "code",
   "execution_count": 6,
   "id": "0187bebe-b8af-406e-9b82-dab31bff2995",
   "metadata": {},
   "outputs": [],
   "source": [
    "#word_aphasia = e.load_evoked_stc('aphasia', epoch='word', model='word % inflected'\n",
    "#       , src='vol-5', inv='vec-3-MNE-0', parc='aparc+aseg')"
   ]
  },
  {
   "cell_type": "markdown",
   "id": "65234152-d02c-4c41-8114-dd7cf3515c3b",
   "metadata": {},
   "source": [
    "## Mask define"
   ]
  },
  {
   "cell_type": "code",
   "execution_count": 7,
   "id": "4eb00b45-e1c8-470d-98e7-7d5aaa7a32b5",
   "metadata": {},
   "outputs": [],
   "source": [
    "wholebrain_cortical_subcortical_mask = [\n",
    " 'Left-Cerebral-White-Matter',\n",
    " 'Left-Lateral-Ventricle',\n",
    " 'Left-Inf-Lat-Vent',\n",
    " 'Left-Putamen',\n",
    " 'Left-Hippocampus',\n",
    " 'Left-Amygdala',\n",
    " 'Left-Accumbens-area',\n",
    " 'Left-vessel',\n",
    " 'Right-Cerebral-White-Matter',\n",
    " 'Right-Inf-Lat-Vent',\n",
    " 'Right-Putamen',\n",
    " 'Right-Hippocampus',\n",
    " 'Right-Amygdala',\n",
    " 'ctx-lh-bankssts',\n",
    " 'ctx-lh-caudalanteriorcingulate',\n",
    " 'ctx-lh-caudalmiddlefrontal',\n",
    " 'ctx-lh-cuneus',\n",
    " 'ctx-lh-entorhinal',\n",
    " 'ctx-lh-fusiform',\n",
    " 'ctx-lh-inferiorparietal',\n",
    " 'ctx-lh-inferiortemporal',\n",
    " 'ctx-lh-isthmuscingulate',\n",
    " 'ctx-lh-lateraloccipital',\n",
    " 'ctx-lh-lateralorbitofrontal',\n",
    " 'ctx-lh-lingual',\n",
    " 'ctx-lh-medialorbitofrontal',\n",
    " 'ctx-lh-middletemporal',\n",
    " 'ctx-lh-parahippocampal',\n",
    " 'ctx-lh-paracentral',\n",
    " 'ctx-lh-parsopercularis',\n",
    " 'ctx-lh-parsorbitalis',\n",
    " 'ctx-lh-parstriangularis',\n",
    " 'ctx-lh-pericalcarine',\n",
    " 'ctx-lh-postcentral',\n",
    " 'ctx-lh-posteriorcingulate',\n",
    " 'ctx-lh-precentral',\n",
    " 'ctx-lh-precuneus',\n",
    " 'ctx-lh-rostralanteriorcingulate',\n",
    " 'ctx-lh-rostralmiddlefrontal',\n",
    " 'ctx-lh-superiorfrontal',\n",
    " 'ctx-lh-superiorparietal',\n",
    " 'ctx-lh-superiortemporal',\n",
    " 'ctx-lh-supramarginal',\n",
    " 'ctx-lh-frontalpole',\n",
    " 'ctx-lh-temporalpole',\n",
    " 'ctx-lh-transversetemporal',\n",
    " 'ctx-lh-insula',\n",
    " 'ctx-rh-bankssts',\n",
    " 'ctx-rh-caudalanteriorcingulate',\n",
    " 'ctx-rh-caudalmiddlefrontal',\n",
    " 'ctx-rh-cuneus',\n",
    " 'ctx-rh-entorhinal',\n",
    " 'ctx-rh-fusiform',\n",
    " 'ctx-rh-inferiorparietal',\n",
    " 'ctx-rh-inferiortemporal',\n",
    " 'ctx-rh-isthmuscingulate',\n",
    " 'ctx-rh-lateraloccipital',\n",
    " 'ctx-rh-lateralorbitofrontal',\n",
    " 'ctx-rh-lingual',\n",
    " 'ctx-rh-medialorbitofrontal',\n",
    " 'ctx-rh-middletemporal',\n",
    " 'ctx-rh-parahippocampal',\n",
    " 'ctx-rh-paracentral',\n",
    " 'ctx-rh-parsopercularis',\n",
    " 'ctx-rh-parsorbitalis',\n",
    " 'ctx-rh-parstriangularis',\n",
    " 'ctx-rh-pericalcarine',\n",
    " 'ctx-rh-postcentral',\n",
    " 'ctx-rh-posteriorcingulate',\n",
    " 'ctx-rh-precentral',\n",
    " 'ctx-rh-precuneus',\n",
    " 'ctx-rh-rostralanteriorcingulate',\n",
    " 'ctx-rh-rostralmiddlefrontal',\n",
    " 'ctx-rh-superiorfrontal',\n",
    " 'ctx-rh-superiorparietal',\n",
    " 'ctx-rh-superiortemporal',\n",
    " 'ctx-rh-supramarginal',\n",
    " 'ctx-rh-frontalpole',\n",
    " 'ctx-rh-temporalpole',\n",
    " 'ctx-rh-transversetemporal',\n",
    " 'ctx-rh-insula']\n",
    "\n",
    "lh_cortical_subcortical_mask = [\n",
    " 'Left-Cerebral-White-Matter',\n",
    " 'Left-Lateral-Ventricle',\n",
    " 'Left-Inf-Lat-Vent',\n",
    " 'Left-Putamen',\n",
    " 'Left-Hippocampus',\n",
    " 'Left-Amygdala',\n",
    " 'Left-Accumbens-area',\n",
    " 'Left-vessel',\n",
    " 'ctx-lh-bankssts',\n",
    " 'ctx-lh-caudalanteriorcingulate',\n",
    " 'ctx-lh-caudalmiddlefrontal',\n",
    " 'ctx-lh-cuneus',\n",
    " 'ctx-lh-entorhinal',\n",
    " 'ctx-lh-fusiform',\n",
    " 'ctx-lh-inferiorparietal',\n",
    " 'ctx-lh-inferiortemporal',\n",
    " 'ctx-lh-isthmuscingulate',\n",
    " 'ctx-lh-lateraloccipital',\n",
    " 'ctx-lh-lateralorbitofrontal',\n",
    " 'ctx-lh-lingual',\n",
    " 'ctx-lh-medialorbitofrontal',\n",
    " 'ctx-lh-middletemporal',\n",
    " 'ctx-lh-parahippocampal',\n",
    " 'ctx-lh-paracentral',\n",
    " 'ctx-lh-parsopercularis',\n",
    " 'ctx-lh-parsorbitalis',\n",
    " 'ctx-lh-parstriangularis',\n",
    " 'ctx-lh-pericalcarine',\n",
    " 'ctx-lh-postcentral',\n",
    " 'ctx-lh-posteriorcingulate',\n",
    " 'ctx-lh-precentral',\n",
    " 'ctx-lh-precuneus',\n",
    " 'ctx-lh-rostralanteriorcingulate',\n",
    " 'ctx-lh-rostralmiddlefrontal',\n",
    " 'ctx-lh-superiorfrontal',\n",
    " 'ctx-lh-superiorparietal',\n",
    " 'ctx-lh-superiortemporal',\n",
    " 'ctx-lh-supramarginal',\n",
    " 'ctx-lh-frontalpole',\n",
    " 'ctx-lh-temporalpole',\n",
    " 'ctx-lh-transversetemporal',\n",
    " 'ctx-lh-insula',\n",
    "]\n",
    "\n",
    "\n",
    "mask = wholebrain_cortical_subcortical_mask\n",
    "mask_name = [name for name in globals() if globals()[name] is mask][0]"
   ]
  },
  {
   "cell_type": "markdown",
   "id": "a44ea48f-5975-404b-ad18-838b7263b56c",
   "metadata": {
    "lines_to_next_cell": 2
   },
   "source": [
    "# One sample t-tests\n",
    "## Inside Young Group"
   ]
  },
  {
   "cell_type": "code",
   "execution_count": null,
   "id": "251e4c62-95a0-492c-bc82-9f3a88af5b67",
   "metadata": {},
   "outputs": [
    {
     "data": {
      "application/vnd.jupyter.widget-view+json": {
       "model_id": "7e0396d742f849158824d14b5f2fc456",
       "version_major": 2,
       "version_minor": 0
      },
      "text/plain": [
       "Localize:   0%|          | 0/56 [00:00<?, ?it/s]"
      ]
     },
     "metadata": {},
     "output_type": "display_data"
    },
    {
     "data": {
      "application/vnd.jupyter.widget-view+json": {
       "model_id": "fcd42ac2b51f4b0d88456565c3b87d84",
       "version_major": 2,
       "version_minor": 0
      },
      "text/plain": [
       "Permutation test:   0%|          | 0/10000 [00:00<?, ? permutations/s]"
      ]
     },
     "metadata": {},
     "output_type": "display_data"
    },
    {
     "name": "stdout",
     "output_type": "stream",
     "text": [
      "words: realinflected\n",
      "#    id     n_sources   location                      tstart   tstop   duration   p        sig\n",
      "----------------------------------------------------------------------------------------------\n",
      "0    1      524         ctx-lh-inferiortemporal       0.1      0.588   0.488      0        ***\n",
      "1    15     516         Unknown                       0.1      0.344   0.244      0        ***\n",
      "2    17     326         Unknown                       0.34     0.6     0.26       0.0002   ***\n",
      "3    281    1           ctx-rh-parahippocampal        0.392    0.404   0.012      0.045    *  \n",
      "4    845    1           Right-Cerebral-White-Matter   0.488    0.5     0.012      0.0458   *  \n",
      "5    1009   2           Right-Cerebral-White-Matter   0.336    0.34    0.004      0.0495   *  \n",
      "6    1109   3           Unknown                       0.596    0.6     0.004      0.0483   *  \n",
      "7    1213   2           Unknown                       0.588    0.596   0.008      0.0469   *  \n",
      "8    1268   2           ctx-rh-rostralmiddlefrontal   0.5      0.512   0.012      0.046    *  \n",
      "9    1310   1           Unknown                       0.548    0.568   0.02       0.0458   *  \n",
      "10   2935   4           Right-Cerebral-White-Matter   0.292    0.32    0.028      0.0339   *  \n"
     ]
    },
    {
     "data": {
      "application/vnd.jupyter.widget-view+json": {
       "model_id": "76a97291e3624a5eb129583d6d6c5954",
       "version_major": 2,
       "version_minor": 0
      },
      "text/plain": [
       "Permutation test:   0%|          | 0/10000 [00:00<?, ? permutations/s]"
      ]
     },
     "metadata": {},
     "output_type": "display_data"
    },
    {
     "name": "stdout",
     "output_type": "stream",
     "text": [
      "words: realuninflected\n",
      "#    id     n_sources   location                      tstart   tstop   duration   p        sig\n",
      "----------------------------------------------------------------------------------------------\n",
      "0    1      517         ctx-lh-inferiortemporal       0.1      0.6     0.5        0.0001   ***\n",
      "1    16     513         Unknown                       0.1      0.6     0.5        0        ***\n",
      "2    1020   8           Right-Cerebral-White-Matter   0.56     0.588   0.028      0.0425   *  \n",
      "3    1489   3           ctx-lh-rostralmiddlefrontal   0.368    0.38    0.012      0.0468   *  \n",
      "4    1494   1           Left-Cerebral-White-Matter    0.368    0.376   0.008      0.0495   *  \n",
      "5    2067   2           Right-Cerebral-White-Matter   0.392    0.408   0.016      0.0482   *  \n",
      "6    2318   1           Left-Cerebral-White-Matter    0.432    0.444   0.012      0.0491   *  \n",
      "7    2910   6           Right-Cerebral-White-Matter   0.464    0.492   0.028      0.0481   *  \n",
      "8    2913   1           Right-Cerebral-White-Matter   0.52     0.528   0.008      0.0496   *  \n",
      "9    3084   2           Right-Cerebral-White-Matter   0.452    0.48    0.028      0.0388   *  \n",
      "10   3157   5           Right-Cerebral-White-Matter   0.428    0.46    0.032      0.0412   *  \n",
      "11   3159   2           Unknown                       0.548    0.564   0.016      0.0429   *  \n",
      "12   3209   8           ctx-rh-caudalmiddlefrontal    0.412    0.448   0.036      0.0419   *  \n",
      "13   3335   1           Left-Cerebral-White-Matter    0.528    0.532   0.004      0.0497   *  \n"
     ]
    },
    {
     "data": {
      "application/vnd.jupyter.widget-view+json": {
       "model_id": "7273c9462ba74e8d8362499b2260026b",
       "version_major": 2,
       "version_minor": 0
      },
      "text/plain": [
       "Permutation test:   0%|          | 0/10000 [00:00<?, ? permutations/s]"
      ]
     },
     "metadata": {},
     "output_type": "display_data"
    },
    {
     "name": "stdout",
     "output_type": "stream",
     "text": [
      "words: pseudoinflected\n",
      "#   id     n_sources   location                      tstart   tstop   duration   p        sig\n",
      "---------------------------------------------------------------------------------------------\n",
      "0   1      517         ctx-lh-inferiortemporal       0.1      0.6     0.5        0        ***\n",
      "1   16     492         Unknown                       0.1      0.344   0.244      0        ***\n",
      "2   17     235         Unknown                       0.36     0.6     0.24       0.0002   ***\n",
      "3   536    3           Unknown                       0.224    0.284   0.06       0.0392   *  \n",
      "4   3078   1           Right-Cerebral-White-Matter   0.48     0.488   0.008      0.0469   *  \n"
     ]
    },
    {
     "data": {
      "application/vnd.jupyter.widget-view+json": {
       "model_id": "81e39e9eb45e4393b6ae4d3e3a24a6bc",
       "version_major": 2,
       "version_minor": 0
      },
      "text/plain": [
       "Permutation test:   0%|          | 0/10000 [00:00<?, ? permutations/s]"
      ]
     },
     "metadata": {},
     "output_type": "display_data"
    }
   ],
   "source": [
    "res_cache_file = f'  tfce young'\n",
    "res_cache_dir =\"~/Code/MEGAN/Tests/oneSample\"\n",
    "\n",
    "session='words'\n",
    "group='young'\n",
    "epochs= ['word-real','word-stem','word-inflected']\n",
    "#epoch word-real contains both realinflected and realuninflected\n",
    "\n",
    "conditions=['realinflected', 'realuninflected', 'pseudoinflected', 'pseudouninflected']\n",
    "# From Lexical column \n",
    "# resolution 5 does not generate mask error\t(low resolution like vol-10 generates error for mask detection\t\t\t\t\t\t\t\t\t\t\n",
    "e.set(epoch='word')\n",
    "stc_all = e.load_evoked_stc(\n",
    "    subjects=group, \n",
    "    baseline=False, \n",
    "    cov='emptyroom', \n",
    "    model='word % inflected',\n",
    "    src='vol-10',\n",
    "    inv='vec-3-MNE-0',\n",
    "    parc='aparc+aseg',\n",
    "\n",
    ")\n",
    "\n",
    "for cond in conditions:\n",
    "    \n",
    "   \n",
    "    data = stc_all.sub(f\"(lexical == '{cond}')\")\n",
    "\n",
    "    res = testnd.Vector('srcm', match='subject', data=data, tfce=True, tstart=0.1, tstop=0.6)\n",
    "    \n",
    "    save.pickle(res, res_cache_dir + cond + res_cache_file)\n",
    "\n",
    "    print(session + ': ' + cond + '\\n' + str(res.find_clusters()))\n",
    "    \n",
    "       "
   ]
  },
  {
   "cell_type": "code",
   "execution_count": null,
   "id": "09f71cc6-be51-4122-acc2-6faca100a612",
   "metadata": {},
   "outputs": [],
   "source": [
    "#data['srcm']\n",
    "#plot.Butterfly(data['srcm'].norm('space'))"
   ]
  },
  {
   "cell_type": "code",
   "execution_count": null,
   "id": "e3e04628-b467-4e18-bd77-aa61f7fca4e3",
   "metadata": {},
   "outputs": [],
   "source": []
  }
 ],
 "metadata": {
  "jupytext": {
   "formats": "ipynb,py:percent"
  },
  "kernelspec": {
   "display_name": "Python 3 (ipykernel)",
   "language": "python",
   "name": "python3"
  },
  "language_info": {
   "codemirror_mode": {
    "name": "ipython",
    "version": 3
   },
   "file_extension": ".py",
   "mimetype": "text/x-python",
   "name": "python",
   "nbconvert_exporter": "python",
   "pygments_lexer": "ipython3",
   "version": "3.12.10"
  }
 },
 "nbformat": 4,
 "nbformat_minor": 5
}
