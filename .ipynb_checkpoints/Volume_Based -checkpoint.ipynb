{
 "cells": [
  {
   "cell_type": "code",
   "execution_count": 1,
   "id": "c20b0887-dd04-4658-96b2-decd25e58833",
   "metadata": {},
   "outputs": [
    {
     "name": "stdout",
     "output_type": "stream",
     "text": [
      "INFO    :  *** Experiment initialized with root /Users/maryamvalian/Data/Aphasia on 2025-05-13 09:38:40 ***\n",
      "INFO    :  Using eelbrain 0.40.3, mne 1.9.0.\n",
      "DEBUG   :  Outdated cache files:\n",
      "DEBUG   :  No existing cache files affected.\n"
     ]
    }
   ],
   "source": [
    "from pathlib import Path\n",
    "from eelbrain import *\n",
    "from matplotlib import pyplot\n",
    "import mne\n",
    "import numpy\n",
    "import re\n",
    "\n",
    "\n",
    "%run experiment.py           #e is the experiment object"
   ]
  },
  {
   "cell_type": "code",
   "execution_count": 9,
   "id": "c9f60470-4739-47a2-a795-12b51cd40542",
   "metadata": {},
   "outputs": [
    {
     "name": "stdout",
     "output_type": "stream",
     "text": [
      "DEBUG   :  Raw n-ica: applying ICA for R0918/words...\n"
     ]
    }
   ],
   "source": [
    "epochs=e.load_epochs(epoch='word-real')\n",
    "#epochs\n",
    "tstart=0.1\n",
    "tstop=0.6"
   ]
  },
  {
   "cell_type": "code",
   "execution_count": 10,
   "id": "689f2a58-ffb7-4a98-bfb3-ab074c9716da",
   "metadata": {
    "jupyter": {
     "source_hidden": true
    }
   },
   "outputs": [],
   "source": [
    "#word_young = e.load_evoked_stc('young', epoch='word', model='word % inflected'\n",
    "#       , src='vol-5', inv='vec-3-MNE-0', parc='aparc+aseg')\n",
    "#word_aphasia = e.load_evoked_stc('aphasia', epoch='word', model='word % inflected'\n",
    "#       , src='vol-5', inv='vec-3-MNE-0', parc='aparc+aseg')\n",
    "#word_old = e.load_evoked_stc('old', epoch='word', model='word % inflected'\n",
    "#       , src='vol-5', inv='vec-3-MNE-0', parc='aparc+aseg')\n",
    "#plot.GlassBrain.butterfly(word_young['srcm'].mean('case'), cmap='Reds')"
   ]
  },
  {
   "cell_type": "markdown",
   "id": "65234152-d02c-4c41-8114-dd7cf3515c3b",
   "metadata": {},
   "source": [
    "## Mask define"
   ]
  },
  {
   "cell_type": "code",
   "execution_count": 4,
   "id": "4eb00b45-e1c8-470d-98e7-7d5aaa7a32b5",
   "metadata": {
    "jupyter": {
     "source_hidden": true
    }
   },
   "outputs": [],
   "source": [
    "wholebrain_cortical_subcortical_mask = [\n",
    " 'Left-Cerebral-White-Matter',\n",
    " 'Left-Lateral-Ventricle',\n",
    " 'Left-Inf-Lat-Vent',\n",
    " 'Left-Putamen',\n",
    " 'Left-Hippocampus',\n",
    " 'Left-Amygdala',\n",
    " 'Left-Accumbens-area',\n",
    " 'Left-vessel',\n",
    " 'Right-Cerebral-White-Matter',\n",
    " 'Right-Inf-Lat-Vent',\n",
    " 'Right-Putamen',\n",
    " 'Right-Hippocampus',\n",
    " 'Right-Amygdala',\n",
    " 'ctx-lh-bankssts',\n",
    " 'ctx-lh-caudalanteriorcingulate',\n",
    " 'ctx-lh-caudalmiddlefrontal',\n",
    " 'ctx-lh-cuneus',\n",
    " 'ctx-lh-entorhinal',\n",
    " 'ctx-lh-fusiform',\n",
    " 'ctx-lh-inferiorparietal',\n",
    " 'ctx-lh-inferiortemporal',\n",
    " 'ctx-lh-isthmuscingulate',\n",
    " 'ctx-lh-lateraloccipital',\n",
    " 'ctx-lh-lateralorbitofrontal',\n",
    " 'ctx-lh-lingual',\n",
    " 'ctx-lh-medialorbitofrontal',\n",
    " 'ctx-lh-middletemporal',\n",
    " 'ctx-lh-parahippocampal',\n",
    " 'ctx-lh-paracentral',\n",
    " 'ctx-lh-parsopercularis',\n",
    " 'ctx-lh-parsorbitalis',\n",
    " 'ctx-lh-parstriangularis',\n",
    " 'ctx-lh-pericalcarine',\n",
    " 'ctx-lh-postcentral',\n",
    " 'ctx-lh-posteriorcingulate',\n",
    " 'ctx-lh-precentral',\n",
    " 'ctx-lh-precuneus',\n",
    " 'ctx-lh-rostralanteriorcingulate',\n",
    " 'ctx-lh-rostralmiddlefrontal',\n",
    " 'ctx-lh-superiorfrontal',\n",
    " 'ctx-lh-superiorparietal',\n",
    " 'ctx-lh-superiortemporal',\n",
    " 'ctx-lh-supramarginal',\n",
    " 'ctx-lh-frontalpole',\n",
    " 'ctx-lh-temporalpole',\n",
    " 'ctx-lh-transversetemporal',\n",
    " 'ctx-lh-insula',\n",
    " 'ctx-rh-bankssts',\n",
    " 'ctx-rh-caudalanteriorcingulate',\n",
    " 'ctx-rh-caudalmiddlefrontal',\n",
    " 'ctx-rh-cuneus',\n",
    " 'ctx-rh-entorhinal',\n",
    " 'ctx-rh-fusiform',\n",
    " 'ctx-rh-inferiorparietal',\n",
    " 'ctx-rh-inferiortemporal',\n",
    " 'ctx-rh-isthmuscingulate',\n",
    " 'ctx-rh-lateraloccipital',\n",
    " 'ctx-rh-lateralorbitofrontal',\n",
    " 'ctx-rh-lingual',\n",
    " 'ctx-rh-medialorbitofrontal',\n",
    " 'ctx-rh-middletemporal',\n",
    " 'ctx-rh-parahippocampal',\n",
    " 'ctx-rh-paracentral',\n",
    " 'ctx-rh-parsopercularis',\n",
    " 'ctx-rh-parsorbitalis',\n",
    " 'ctx-rh-parstriangularis',\n",
    " 'ctx-rh-pericalcarine',\n",
    " 'ctx-rh-postcentral',\n",
    " 'ctx-rh-posteriorcingulate',\n",
    " 'ctx-rh-precentral',\n",
    " 'ctx-rh-precuneus',\n",
    " 'ctx-rh-rostralanteriorcingulate',\n",
    " 'ctx-rh-rostralmiddlefrontal',\n",
    " 'ctx-rh-superiorfrontal',\n",
    " 'ctx-rh-superiorparietal',\n",
    " 'ctx-rh-superiortemporal',\n",
    " 'ctx-rh-supramarginal',\n",
    " 'ctx-rh-frontalpole',\n",
    " 'ctx-rh-temporalpole',\n",
    " 'ctx-rh-transversetemporal',\n",
    " 'ctx-rh-insula']\n",
    "\n",
    "lh_cortical_subcortical_mask = [\n",
    " 'Left-Cerebral-White-Matter',\n",
    " 'Left-Lateral-Ventricle',\n",
    " 'Left-Inf-Lat-Vent',\n",
    " 'Left-Putamen',\n",
    " 'Left-Hippocampus',\n",
    " 'Left-Amygdala',\n",
    " 'Left-Accumbens-area',\n",
    " 'Left-vessel',\n",
    " 'ctx-lh-bankssts',\n",
    " 'ctx-lh-caudalanteriorcingulate',\n",
    " 'ctx-lh-caudalmiddlefrontal',\n",
    " 'ctx-lh-cuneus',\n",
    " 'ctx-lh-entorhinal',\n",
    " 'ctx-lh-fusiform',\n",
    " 'ctx-lh-inferiorparietal',\n",
    " 'ctx-lh-inferiortemporal',\n",
    " 'ctx-lh-isthmuscingulate',\n",
    " 'ctx-lh-lateraloccipital',\n",
    " 'ctx-lh-lateralorbitofrontal',\n",
    " 'ctx-lh-lingual',\n",
    " 'ctx-lh-medialorbitofrontal',\n",
    " 'ctx-lh-middletemporal',\n",
    " 'ctx-lh-parahippocampal',\n",
    " 'ctx-lh-paracentral',\n",
    " 'ctx-lh-parsopercularis',\n",
    " 'ctx-lh-parsorbitalis',\n",
    " 'ctx-lh-parstriangularis',\n",
    " 'ctx-lh-pericalcarine',\n",
    " 'ctx-lh-postcentral',\n",
    " 'ctx-lh-posteriorcingulate',\n",
    " 'ctx-lh-precentral',\n",
    " 'ctx-lh-precuneus',\n",
    " 'ctx-lh-rostralanteriorcingulate',\n",
    " 'ctx-lh-rostralmiddlefrontal',\n",
    " 'ctx-lh-superiorfrontal',\n",
    " 'ctx-lh-superiorparietal',\n",
    " 'ctx-lh-superiortemporal',\n",
    " 'ctx-lh-supramarginal',\n",
    " 'ctx-lh-frontalpole',\n",
    " 'ctx-lh-temporalpole',\n",
    " 'ctx-lh-transversetemporal',\n",
    " 'ctx-lh-insula',\n",
    "]\n",
    "\n",
    "\n",
    "mask = wholebrain_cortical_subcortical_mask\n",
    "mask_name = [name for name in globals() if globals()[name] is mask][0]"
   ]
  },
  {
   "cell_type": "markdown",
   "id": "a44ea48f-5975-404b-ad18-838b7263b56c",
   "metadata": {
    "lines_to_next_cell": 2
   },
   "source": [
    "# One sample t-tests\n",
    "## Inside Young Group"
   ]
  },
  {
   "cell_type": "code",
   "execution_count": null,
   "id": "251e4c62-95a0-492c-bc82-9f3a88af5b67",
   "metadata": {},
   "outputs": [
    {
     "data": {
      "application/vnd.jupyter.widget-view+json": {
       "model_id": "c727037b9e2b4dd99228f66c9b27f21f",
       "version_major": 2,
       "version_minor": 0
      },
      "text/plain": [
       "Localize:   0%|          | 0/56 [00:00<?, ?it/s]"
      ]
     },
     "metadata": {},
     "output_type": "display_data"
    },
    {
     "data": {
      "application/vnd.jupyter.widget-view+json": {
       "model_id": "fecf0fa36bab4422a737476fd45c72aa",
       "version_major": 2,
       "version_minor": 0
      },
      "text/plain": [
       "Permutation test:   0%|          | 0/10000 [00:00<?, ? permutations/s]"
      ]
     },
     "metadata": {},
     "output_type": "display_data"
    }
   ],
   "source": [
    "res_cache_file = f'  tfce young'\n",
    "res_cache_dir =\"~/Code/MEGAN/Tests/oneSample\"\n",
    "\n",
    "session='words'\n",
    "group='young'\n",
    "epochs= ['word-real','word-stem','word-inflected']\n",
    "#epoch word-real contains both realinflected and realuninflected\n",
    "\n",
    "conditions=['realinflected', 'realuninflected', 'pseudoinflected', 'pseudouninflected']\n",
    "\n",
    "# From Lexical column \n",
    "# resolution 5 does not generate mask error\t(low resolution like vol-10 generates error for mask detection\t\t\t\t\t\t\t\t\t\t\n",
    "e.set(epoch='word')\n",
    "stc_all = e.load_evoked_stc(\n",
    "    subjects=group, \n",
    "    baseline=False, \n",
    "    cov='emptyroom', \n",
    "    model='word % inflected',\n",
    "    src='vol-10',\n",
    "    inv='vec-3-MNE-0',\n",
    "    parc='aparc+aseg',\n",
    "\n",
    ")\n",
    "#data['srcm']\n",
    "#plot.Butterfly(data['srcm'].norm('space'))\n",
    "\n",
    "for cond in conditions:\n",
    "    \n",
    "   \n",
    "    data = stc_all.sub(f\"(lexical == '{cond}')\")\n",
    "    res = testnd.Vector('srcm', match='subject', data=data, tfce=True, tstart=tstart, tstop=tstop)\n",
    "    \n",
    "    \n",
    "    \n",
    "    save.pickle(res, res_cache_dir + cond + res_cache_file)\n",
    "    print(session + ': ' + cond + '\\n' + str(res.find_clusters()))\n",
    "    \n",
    "       "
   ]
  },
  {
   "cell_type": "code",
   "execution_count": null,
   "id": "a3f88173-6663-4105-8433-2127723a760e",
   "metadata": {},
   "outputs": [],
   "source": [
    "p = plot.TopoButterfly(data['srcm'], t=0.13, head_radius=0.35)\n",
    "#p = plot.TopoButterfly(res.tfce_map, t=0.13, head_radius=0.35)\n",
    "plot.brain.cluster(res)"
   ]
  },
  {
   "cell_type": "markdown",
   "id": "a6ef91b8-5351-4b7e-ba8e-8a9c9d5afe1a",
   "metadata": {},
   "source": [
    "# Paired Tests\n",
    "## Inside Young Group"
   ]
  },
  {
   "cell_type": "code",
   "execution_count": 18,
   "id": "e3e04628-b467-4e18-bd77-aa61f7fca4e3",
   "metadata": {},
   "outputs": [
    {
     "ename": "TypeError",
     "evalue": "VectorDifferenceRelated.__init__() missing 1 required positional argument: 'x'",
     "output_type": "error",
     "traceback": [
      "\u001b[31m---------------------------------------------------------------------------\u001b[39m",
      "\u001b[31mTypeError\u001b[39m                                 Traceback (most recent call last)",
      "\u001b[36mCell\u001b[39m\u001b[36m \u001b[39m\u001b[32mIn[18]\u001b[39m\u001b[32m, line 7\u001b[39m\n\u001b[32m      4\u001b[39m real_infl_stc = stc_all.sub(\u001b[33mf\u001b[39m\u001b[33m\"\u001b[39m\u001b[33m(lexical == \u001b[39m\u001b[33m'\u001b[39m\u001b[38;5;132;01m{\u001b[39;00mcond1\u001b[38;5;132;01m}\u001b[39;00m\u001b[33m'\u001b[39m\u001b[33m)\u001b[39m\u001b[33m\"\u001b[39m)\n\u001b[32m      5\u001b[39m pseudo_infl_stc = stc_all.sub(\u001b[33mf\u001b[39m\u001b[33m\"\u001b[39m\u001b[33m(lexical == \u001b[39m\u001b[33m'\u001b[39m\u001b[38;5;132;01m{\u001b[39;00mcond2\u001b[38;5;132;01m}\u001b[39;00m\u001b[33m'\u001b[39m\u001b[33m)\u001b[39m\u001b[33m\"\u001b[39m)\n\u001b[32m----> \u001b[39m\u001b[32m7\u001b[39m res = \u001b[43mtestnd\u001b[49m\u001b[43m.\u001b[49m\u001b[43mVectorDifferenceRelated\u001b[49m\u001b[43m(\u001b[49m\u001b[43mdata\u001b[49m\u001b[43m[\u001b[49m\u001b[33;43m'\u001b[39;49m\u001b[33;43msrcm\u001b[39;49m\u001b[33;43m'\u001b[39;49m\u001b[43m]\u001b[49m\u001b[43m,\u001b[49m\u001b[43m \u001b[49m\u001b[43mmatch\u001b[49m\u001b[43m=\u001b[49m\u001b[33;43m'\u001b[39;49m\u001b[33;43msubject\u001b[39;49m\u001b[33;43m'\u001b[39;49m\u001b[43m,\u001b[49m\u001b[43m \u001b[49m\u001b[43mdata\u001b[49m\u001b[43m=\u001b[49m\u001b[43mdata\u001b[49m\u001b[43m,\u001b[49m\u001b[43m \u001b[49m\u001b[43mtfce\u001b[49m\u001b[43m=\u001b[49m\u001b[38;5;28;43;01mTrue\u001b[39;49;00m\u001b[43m,\u001b[49m\u001b[43m \u001b[49m\u001b[43mtstart\u001b[49m\u001b[43m=\u001b[49m\u001b[43mtstart\u001b[49m\u001b[43m,\u001b[49m\u001b[43m \u001b[49m\u001b[43mtstop\u001b[49m\u001b[43m=\u001b[49m\u001b[43mtstop\u001b[49m\u001b[43m)\u001b[49m\n",
      "\u001b[36mFile \u001b[39m\u001b[32m~/miniforge3/envs/eelbrain/lib/python3.12/contextlib.py:81\u001b[39m, in \u001b[36mContextDecorator.__call__.<locals>.inner\u001b[39m\u001b[34m(*args, **kwds)\u001b[39m\n\u001b[32m     78\u001b[39m \u001b[38;5;129m@wraps\u001b[39m(func)\n\u001b[32m     79\u001b[39m \u001b[38;5;28;01mdef\u001b[39;00m\u001b[38;5;250m \u001b[39m\u001b[34minner\u001b[39m(*args, **kwds):\n\u001b[32m     80\u001b[39m     \u001b[38;5;28;01mwith\u001b[39;00m \u001b[38;5;28mself\u001b[39m._recreate_cm():\n\u001b[32m---> \u001b[39m\u001b[32m81\u001b[39m         \u001b[38;5;28;01mreturn\u001b[39;00m \u001b[43mfunc\u001b[49m\u001b[43m(\u001b[49m\u001b[43m*\u001b[49m\u001b[43margs\u001b[49m\u001b[43m,\u001b[49m\u001b[43m \u001b[49m\u001b[43m*\u001b[49m\u001b[43m*\u001b[49m\u001b[43mkwds\u001b[49m\u001b[43m)\u001b[49m\n",
      "\u001b[36mFile \u001b[39m\u001b[32m~/miniforge3/envs/eelbrain/lib/python3.12/site-packages/eelbrain/_utils/basic.py:170\u001b[39m, in \u001b[36mdeprecate_ds_arg.<locals>.new\u001b[39m\u001b[34m(ds, *args, **kwargs)\u001b[39m\n\u001b[32m    168\u001b[39m     warn(\u001b[33m\"\u001b[39m\u001b[33mThe `ds` argument has been renamed to `data`. `ds` will stop working in Eelbrain 0.41.\u001b[39m\u001b[33m\"\u001b[39m, \u001b[38;5;167;01mDeprecationWarning\u001b[39;00m)\n\u001b[32m    169\u001b[39m     kwargs[\u001b[33m'\u001b[39m\u001b[33mdata\u001b[39m\u001b[33m'\u001b[39m] = ds\n\u001b[32m--> \u001b[39m\u001b[32m170\u001b[39m \u001b[38;5;28;01mreturn\u001b[39;00m \u001b[43mfunc\u001b[49m\u001b[43m(\u001b[49m\u001b[43m*\u001b[49m\u001b[43margs\u001b[49m\u001b[43m,\u001b[49m\u001b[43m \u001b[49m\u001b[43m*\u001b[49m\u001b[43m*\u001b[49m\u001b[43mkwargs\u001b[49m\u001b[43m)\u001b[49m\n",
      "\u001b[31mTypeError\u001b[39m: VectorDifferenceRelated.__init__() missing 1 required positional argument: 'x'"
     ]
    }
   ],
   "source": [
    "contrast = ['realinflected-pseudouninflected']\n",
    "cond1, cond2 = contrast[0].split('-')\n",
    "\n",
    "real_infl_stc = stc_all.sub(f\"(lexical == '{cond1}')\")\n",
    "pseudo_infl_stc = stc_all.sub(f\"(lexical == '{cond2}')\")\n",
    "\n",
    "res = testnd.VectorDifferenceRelated(data['srcm'], match='subject', data=data, tfce=True, tstart=tstart, tstop=tstop)"
   ]
  },
  {
   "cell_type": "code",
   "execution_count": null,
   "id": "da4c0f6a-a0b3-414d-9326-62b120424834",
   "metadata": {},
   "outputs": [],
   "source": []
  }
 ],
 "metadata": {
  "jupytext": {
   "formats": "ipynb,py:percent"
  },
  "kernelspec": {
   "display_name": "Python 3 (ipykernel)",
   "language": "python",
   "name": "python3"
  },
  "language_info": {
   "codemirror_mode": {
    "name": "ipython",
    "version": 3
   },
   "file_extension": ".py",
   "mimetype": "text/x-python",
   "name": "python",
   "nbconvert_exporter": "python",
   "pygments_lexer": "ipython3",
   "version": "3.12.10"
  }
 },
 "nbformat": 4,
 "nbformat_minor": 5
}
