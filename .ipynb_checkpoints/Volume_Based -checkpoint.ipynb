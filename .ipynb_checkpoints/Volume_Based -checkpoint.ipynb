{
 "cells": [
  {
   "cell_type": "code",
   "execution_count": 1,
   "id": "c20b0887-dd04-4658-96b2-decd25e58833",
   "metadata": {},
   "outputs": [
    {
     "name": "stdout",
     "output_type": "stream",
     "text": [
      "INFO    :  *** Experiment initialized with root /Users/maryamvalian/Data/Aphasia on 2025-05-12 18:31:33 ***\n",
      "INFO    :  Using eelbrain 0.40.3, mne 1.9.0.\n",
      "DEBUG   :  Outdated cache files:\n",
      "DEBUG   :  No existing cache files affected.\n"
     ]
    }
   ],
   "source": [
    "from pathlib import Path\n",
    "from eelbrain import *\n",
    "from matplotlib import pyplot\n",
    "import mne\n",
    "import numpy\n",
    "import re\n",
    "\n",
    "\n",
    "%run experiment.py           #e is the experiment object"
   ]
  },
  {
   "cell_type": "code",
   "execution_count": 2,
   "id": "c9f60470-4739-47a2-a795-12b51cd40542",
   "metadata": {},
   "outputs": [
    {
     "name": "stdout",
     "output_type": "stream",
     "text": [
      "DEBUG   :  Raw n-ica: applying ICA for R0240/words...\n"
     ]
    }
   ],
   "source": [
    "epochs=e.load_epochs(epoch='word-real')\n",
    "#epochs"
   ]
  },
  {
   "cell_type": "code",
   "execution_count": 3,
   "id": "689f2a58-ffb7-4a98-bfb3-ab074c9716da",
   "metadata": {},
   "outputs": [],
   "source": [
    "#word_young = e.load_evoked_stc('young', epoch='word', model='word % inflected'\n",
    "#       , src='vol-5', inv='vec-3-MNE-0', parc='aparc+aseg')"
   ]
  },
  {
   "cell_type": "code",
   "execution_count": 4,
   "id": "128d8174-5ab6-4e57-8bfd-cde5b357d8fc",
   "metadata": {},
   "outputs": [],
   "source": [
    "#plot.GlassBrain.butterfly(word_young['srcm'].mean('case'), cmap='Reds')"
   ]
  },
  {
   "cell_type": "code",
   "execution_count": 5,
   "id": "36350d82-f591-4d24-adf9-8306175349ee",
   "metadata": {},
   "outputs": [],
   "source": [
    "#word_old = e.load_evoked_stc('old', epoch='word', model='word % inflected'\n",
    "#       , src='vol-5', inv='vec-3-MNE-0', parc='aparc+aseg')"
   ]
  },
  {
   "cell_type": "code",
   "execution_count": 6,
   "id": "0187bebe-b8af-406e-9b82-dab31bff2995",
   "metadata": {},
   "outputs": [],
   "source": [
    "#word_aphasia = e.load_evoked_stc('aphasia', epoch='word', model='word % inflected'\n",
    "#       , src='vol-5', inv='vec-3-MNE-0', parc='aparc+aseg')"
   ]
  },
  {
   "cell_type": "markdown",
   "id": "65234152-d02c-4c41-8114-dd7cf3515c3b",
   "metadata": {},
   "source": [
    "## Mask define"
   ]
  },
  {
   "cell_type": "code",
   "execution_count": 7,
   "id": "4eb00b45-e1c8-470d-98e7-7d5aaa7a32b5",
   "metadata": {},
   "outputs": [],
   "source": [
    "wholebrain_cortical_subcortical_mask = [\n",
    " 'Left-Cerebral-White-Matter',\n",
    " 'Left-Lateral-Ventricle',\n",
    " 'Left-Inf-Lat-Vent',\n",
    " 'Left-Putamen',\n",
    " 'Left-Hippocampus',\n",
    " 'Left-Amygdala',\n",
    " 'Left-Accumbens-area',\n",
    " 'Left-vessel',\n",
    " 'Right-Cerebral-White-Matter',\n",
    " 'Right-Inf-Lat-Vent',\n",
    " 'Right-Putamen',\n",
    " 'Right-Hippocampus',\n",
    " 'Right-Amygdala',\n",
    " 'ctx-lh-bankssts',\n",
    " 'ctx-lh-caudalanteriorcingulate',\n",
    " 'ctx-lh-caudalmiddlefrontal',\n",
    " 'ctx-lh-cuneus',\n",
    " 'ctx-lh-entorhinal',\n",
    " 'ctx-lh-fusiform',\n",
    " 'ctx-lh-inferiorparietal',\n",
    " 'ctx-lh-inferiortemporal',\n",
    " 'ctx-lh-isthmuscingulate',\n",
    " 'ctx-lh-lateraloccipital',\n",
    " 'ctx-lh-lateralorbitofrontal',\n",
    " 'ctx-lh-lingual',\n",
    " 'ctx-lh-medialorbitofrontal',\n",
    " 'ctx-lh-middletemporal',\n",
    " 'ctx-lh-parahippocampal',\n",
    " 'ctx-lh-paracentral',\n",
    " 'ctx-lh-parsopercularis',\n",
    " 'ctx-lh-parsorbitalis',\n",
    " 'ctx-lh-parstriangularis',\n",
    " 'ctx-lh-pericalcarine',\n",
    " 'ctx-lh-postcentral',\n",
    " 'ctx-lh-posteriorcingulate',\n",
    " 'ctx-lh-precentral',\n",
    " 'ctx-lh-precuneus',\n",
    " 'ctx-lh-rostralanteriorcingulate',\n",
    " 'ctx-lh-rostralmiddlefrontal',\n",
    " 'ctx-lh-superiorfrontal',\n",
    " 'ctx-lh-superiorparietal',\n",
    " 'ctx-lh-superiortemporal',\n",
    " 'ctx-lh-supramarginal',\n",
    " 'ctx-lh-frontalpole',\n",
    " 'ctx-lh-temporalpole',\n",
    " 'ctx-lh-transversetemporal',\n",
    " 'ctx-lh-insula',\n",
    " 'ctx-rh-bankssts',\n",
    " 'ctx-rh-caudalanteriorcingulate',\n",
    " 'ctx-rh-caudalmiddlefrontal',\n",
    " 'ctx-rh-cuneus',\n",
    " 'ctx-rh-entorhinal',\n",
    " 'ctx-rh-fusiform',\n",
    " 'ctx-rh-inferiorparietal',\n",
    " 'ctx-rh-inferiortemporal',\n",
    " 'ctx-rh-isthmuscingulate',\n",
    " 'ctx-rh-lateraloccipital',\n",
    " 'ctx-rh-lateralorbitofrontal',\n",
    " 'ctx-rh-lingual',\n",
    " 'ctx-rh-medialorbitofrontal',\n",
    " 'ctx-rh-middletemporal',\n",
    " 'ctx-rh-parahippocampal',\n",
    " 'ctx-rh-paracentral',\n",
    " 'ctx-rh-parsopercularis',\n",
    " 'ctx-rh-parsorbitalis',\n",
    " 'ctx-rh-parstriangularis',\n",
    " 'ctx-rh-pericalcarine',\n",
    " 'ctx-rh-postcentral',\n",
    " 'ctx-rh-posteriorcingulate',\n",
    " 'ctx-rh-precentral',\n",
    " 'ctx-rh-precuneus',\n",
    " 'ctx-rh-rostralanteriorcingulate',\n",
    " 'ctx-rh-rostralmiddlefrontal',\n",
    " 'ctx-rh-superiorfrontal',\n",
    " 'ctx-rh-superiorparietal',\n",
    " 'ctx-rh-superiortemporal',\n",
    " 'ctx-rh-supramarginal',\n",
    " 'ctx-rh-frontalpole',\n",
    " 'ctx-rh-temporalpole',\n",
    " 'ctx-rh-transversetemporal',\n",
    " 'ctx-rh-insula']\n",
    "\n",
    "lh_cortical_subcortical_mask = [\n",
    " 'Left-Cerebral-White-Matter',\n",
    " 'Left-Lateral-Ventricle',\n",
    " 'Left-Inf-Lat-Vent',\n",
    " 'Left-Putamen',\n",
    " 'Left-Hippocampus',\n",
    " 'Left-Amygdala',\n",
    " 'Left-Accumbens-area',\n",
    " 'Left-vessel',\n",
    " 'ctx-lh-bankssts',\n",
    " 'ctx-lh-caudalanteriorcingulate',\n",
    " 'ctx-lh-caudalmiddlefrontal',\n",
    " 'ctx-lh-cuneus',\n",
    " 'ctx-lh-entorhinal',\n",
    " 'ctx-lh-fusiform',\n",
    " 'ctx-lh-inferiorparietal',\n",
    " 'ctx-lh-inferiortemporal',\n",
    " 'ctx-lh-isthmuscingulate',\n",
    " 'ctx-lh-lateraloccipital',\n",
    " 'ctx-lh-lateralorbitofrontal',\n",
    " 'ctx-lh-lingual',\n",
    " 'ctx-lh-medialorbitofrontal',\n",
    " 'ctx-lh-middletemporal',\n",
    " 'ctx-lh-parahippocampal',\n",
    " 'ctx-lh-paracentral',\n",
    " 'ctx-lh-parsopercularis',\n",
    " 'ctx-lh-parsorbitalis',\n",
    " 'ctx-lh-parstriangularis',\n",
    " 'ctx-lh-pericalcarine',\n",
    " 'ctx-lh-postcentral',\n",
    " 'ctx-lh-posteriorcingulate',\n",
    " 'ctx-lh-precentral',\n",
    " 'ctx-lh-precuneus',\n",
    " 'ctx-lh-rostralanteriorcingulate',\n",
    " 'ctx-lh-rostralmiddlefrontal',\n",
    " 'ctx-lh-superiorfrontal',\n",
    " 'ctx-lh-superiorparietal',\n",
    " 'ctx-lh-superiortemporal',\n",
    " 'ctx-lh-supramarginal',\n",
    " 'ctx-lh-frontalpole',\n",
    " 'ctx-lh-temporalpole',\n",
    " 'ctx-lh-transversetemporal',\n",
    " 'ctx-lh-insula',\n",
    "]\n",
    "\n",
    "\n",
    "mask = wholebrain_cortical_subcortical_mask\n",
    "mask_name = [name for name in globals() if globals()[name] is mask][0]"
   ]
  },
  {
   "cell_type": "markdown",
   "id": "a44ea48f-5975-404b-ad18-838b7263b56c",
   "metadata": {
    "lines_to_next_cell": 2
   },
   "source": [
    "# One sample t-tests\n",
    "## Inside Young Group"
   ]
  },
  {
   "cell_type": "code",
   "execution_count": 8,
   "id": "251e4c62-95a0-492c-bc82-9f3a88af5b67",
   "metadata": {},
   "outputs": [
    {
     "data": {
      "application/vnd.jupyter.widget-view+json": {
       "model_id": "e84bafd4616f411daa22bc5f84b3aeec",
       "version_major": 2,
       "version_minor": 0
      },
      "text/plain": [
       "Localize:   0%|          | 0/56 [00:00<?, ?it/s]"
      ]
     },
     "metadata": {},
     "output_type": "display_data"
    }
   ],
   "source": [
    "res_cache_file = f'  tfce {mask_name}'\n",
    "res_cache_dir =\"~/Code/MEGAN/Tests\"\n",
    "\n",
    "session='words'\n",
    "group='young'\n",
    "epochs= ['word-real','word-stem','word-inflected']\n",
    "#epoch word-real contains both realinflected and realuninflected\n",
    "\n",
    "conditions=['realinflected', 'realuninflected', 'pseudoinflected', 'pseudouninflected']\n",
    "# From Lexical column \n",
    "# resolution 5 does not generate mask error\t(low resolution like vol-10 generates error for mask detection\t\t\t\t\t\t\t\t\t\t\n",
    "e.set(epoch='word')\n",
    "stc_all = e.load_evoked_stc(\n",
    "    subjects=group, \n",
    "    baseline=False, \n",
    "    cov='emptyroom', \n",
    "    model='word % inflected',\n",
    "    src='vol-10',\n",
    "    inv='vec-3-MNE-0',\n",
    "    parc='aparc+aseg',\n",
    "\n",
    ")\n",
    "\n",
    "for cond in conditions:\n",
    "    \n",
    "   \n",
    "    data = stc_all.sub(f\"(lexical == '{cond}')\")\n",
    "\n",
    "    res = testnd.Vector('srcm', match='subject', data=data, tfce=True, tstart=0.1, tstop=0.6)\n",
    "    \n",
    "    save.pickle(res, res_cache_dir + cond + res_cache_file)\n",
    "\n",
    "    print(session + ': ' + cond + '\\n' + str(res.find_clusters()))\n",
    "    \n",
    "       "
   ]
  },
  {
   "cell_type": "code",
   "execution_count": 9,
   "id": "09f71cc6-be51-4122-acc2-6faca100a612",
   "metadata": {},
   "outputs": [
    {
     "data": {
      "text/plain": [
       "<NDVar 'srcm': 14 case, 1088 source, 3 space, 226 time>"
      ]
     },
     "execution_count": 9,
     "metadata": {},
     "output_type": "execute_result"
    }
   ],
   "source": [
    "#data['srcm']"
   ]
  },
  {
   "cell_type": "code",
   "execution_count": 10,
   "id": "1de28523-aacf-439a-b177-55a8a71884aa",
   "metadata": {},
   "outputs": [
    {
     "data": {
      "application/vnd.jupyter.widget-view+json": {
       "model_id": "e19535c58ff64982bdc19db8c58ff6be",
       "version_major": 2,
       "version_minor": 0
      },
      "text/plain": [
       "Permutation test:   0%|          | 0/10000 [00:00<?, ? permutations/s]"
      ]
     },
     "metadata": {},
     "output_type": "display_data"
    }
   ],
   "source": [
    "res = testnd.Vector('srcm', match='subject', data=data, tfce=True, tstart=0.1, tstop=0.6)"
   ]
  },
  {
   "cell_type": "code",
   "execution_count": 11,
   "id": "7e6b140f-c045-457c-8053-13306ae856c4",
   "metadata": {},
   "outputs": [],
   "source": [
    "#plot.Butterfly(data['srcm'].norm('space'))"
   ]
  },
  {
   "cell_type": "code",
   "execution_count": 12,
   "id": "c519d760-0343-47ee-b6aa-427d301d4ba0",
   "metadata": {},
   "outputs": [
    {
     "name": "stdout",
     "output_type": "stream",
     "text": [
      "words: pseudouninflected\n",
      "#   id     n_sources   location                      tstart   tstop   duration   p        sig\n",
      "---------------------------------------------------------------------------------------------\n",
      "0   1      532         ctx-lh-inferiortemporal       0.1      0.6     0.5        0.0001   ***\n",
      "1   11     515         Unknown                       0.1      0.38    0.28       0        ***\n",
      "2   13     340         Unknown                       0.384    0.6     0.216      0.0002   ***\n",
      "3   3024   1           Right-Cerebral-White-Matter   0.584    0.588   0.004      0.0499   *  \n",
      "4   3241   2           Unknown                       0.272    0.284   0.012      0.0459   *  \n",
      "5   3266   5           Right-Cerebral-White-Matter   0.512    0.556   0.044      0.0431   *  \n",
      "6   3541   1           ctx-rh-precentral             0.572    0.584   0.012      0.0472   *  \n",
      "7   3552   2           Unknown                       0.568    0.58    0.012      0.0433   *  \n"
     ]
    }
   ],
   "source": [
    "print(session + ': ' + cond + '\\n' + str(res.find_clusters()))"
   ]
  },
  {
   "cell_type": "raw",
   "id": "0711ba6b-5b77-46d8-baaf-0e8efed46319",
   "metadata": {},
   "source": []
  },
  {
   "cell_type": "code",
   "execution_count": null,
   "id": "13d70e58-e52c-4872-9ecc-02fe996ba322",
   "metadata": {},
   "outputs": [],
   "source": []
  }
 ],
 "metadata": {
  "jupytext": {
   "formats": "ipynb,py:percent"
  },
  "kernelspec": {
   "display_name": "Python 3 (ipykernel)",
   "language": "python",
   "name": "python3"
  },
  "language_info": {
   "codemirror_mode": {
    "name": "ipython",
    "version": 3
   },
   "file_extension": ".py",
   "mimetype": "text/x-python",
   "name": "python",
   "nbconvert_exporter": "python",
   "pygments_lexer": "ipython3",
   "version": "3.12.10"
  }
 },
 "nbformat": 4,
 "nbformat_minor": 5
}
