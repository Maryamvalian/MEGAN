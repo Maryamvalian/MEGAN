{
 "cells": [
  {
   "cell_type": "code",
   "execution_count": 1,
   "id": "c20b0887-dd04-4658-96b2-decd25e58833",
   "metadata": {},
   "outputs": [
    {
     "name": "stdout",
     "output_type": "stream",
     "text": [
      "INFO    :  *** Experiment initialized with root /Users/maryamvalian/Data on 2025-04-15 14:45:00 ***\n",
      "DEBUG   :  Using eelbrain 0.40.dev0, mne 1.9.0.\n",
      "DEBUG   :  Outdated cache files:\n",
      "DEBUG   :  No existing cache files affected.\n"
     ]
    }
   ],
   "source": [
    "from pathlib import Path\n",
    "from eelbrain import *\n",
    "from matplotlib import pyplot\n",
    "import mne\n",
    "import numpy\n",
    "import re\n",
    "\n",
    "\n",
    "%run experiment.py           #e is the experiment object"
   ]
  },
  {
   "cell_type": "code",
   "execution_count": 2,
   "id": "fbb1368d-a156-42a3-b81a-0d8c8498fa8a",
   "metadata": {},
   "outputs": [],
   "source": [
    "inv_info = 'vec-3-dSPM-0'      #vector, or snr3, dspm, 0: superficial dipoles\n",
    "src_info = 'vol-10' # set up at vol-10 for testing, set to 5 for better result: Distance between the two adjacent dipoles\n",
    "e.set_inv(ori=re.split('-',inv_info)[0], \n",
    "                snr=int(re.split('-',inv_info)[1]), \n",
    "                method=re.split('-',inv_info)[2], \n",
    "                depth=int(re.split('-',inv_info)[3]), \n",
    "                pick_normal=False, \n",
    "                src=src_info)\n",
    "e.set(parc = 'aparc+aseg')\n",
    "\n",
    "wholebrain_cortical_subcortical_mask = [\n",
    " 'Left-Cerebral-White-Matter',\n",
    " 'Left-Lateral-Ventricle',\n",
    " 'Left-Inf-Lat-Vent',\n",
    " 'Left-Putamen',\n",
    " 'Left-Hippocampus',\n",
    " 'Left-Amygdala',\n",
    " 'Left-Accumbens-area',\n",
    " 'Left-vessel',\n",
    " 'Right-Cerebral-White-Matter',\n",
    " 'Right-Inf-Lat-Vent',\n",
    " 'Right-Putamen',\n",
    " 'Right-Hippocampus',\n",
    " 'Right-Amygdala',\n",
    " 'ctx-lh-bankssts',\n",
    " 'ctx-lh-caudalanteriorcingulate',\n",
    " 'ctx-lh-caudalmiddlefrontal',\n",
    " 'ctx-lh-cuneus',\n",
    " 'ctx-lh-entorhinal',\n",
    " 'ctx-lh-fusiform',\n",
    " 'ctx-lh-inferiorparietal',\n",
    " 'ctx-lh-inferiortemporal',\n",
    " 'ctx-lh-isthmuscingulate',\n",
    " 'ctx-lh-lateraloccipital',\n",
    " 'ctx-lh-lateralorbitofrontal',\n",
    " 'ctx-lh-lingual',\n",
    " 'ctx-lh-medialorbitofrontal',\n",
    " 'ctx-lh-middletemporal',\n",
    " 'ctx-lh-parahippocampal',\n",
    " 'ctx-lh-paracentral',\n",
    " 'ctx-lh-parsopercularis',\n",
    " 'ctx-lh-parsorbitalis',\n",
    " 'ctx-lh-parstriangularis',\n",
    " 'ctx-lh-pericalcarine',\n",
    " 'ctx-lh-postcentral',\n",
    " 'ctx-lh-posteriorcingulate',\n",
    " 'ctx-lh-precentral',\n",
    " 'ctx-lh-precuneus',\n",
    " 'ctx-lh-rostralanteriorcingulate',\n",
    " 'ctx-lh-rostralmiddlefrontal',\n",
    " 'ctx-lh-superiorfrontal',\n",
    " 'ctx-lh-superiorparietal',\n",
    " 'ctx-lh-superiortemporal',\n",
    " 'ctx-lh-supramarginal',\n",
    " 'ctx-lh-frontalpole',\n",
    " 'ctx-lh-temporalpole',\n",
    " 'ctx-lh-transversetemporal',\n",
    " 'ctx-lh-insula',\n",
    " 'ctx-rh-bankssts',\n",
    " 'ctx-rh-caudalanteriorcingulate',\n",
    " 'ctx-rh-caudalmiddlefrontal',\n",
    " 'ctx-rh-cuneus',\n",
    " 'ctx-rh-entorhinal',\n",
    " 'ctx-rh-fusiform',\n",
    " 'ctx-rh-inferiorparietal',\n",
    " 'ctx-rh-inferiortemporal',\n",
    " 'ctx-rh-isthmuscingulate',\n",
    " 'ctx-rh-lateraloccipital',\n",
    " 'ctx-rh-lateralorbitofrontal',\n",
    " 'ctx-rh-lingual',\n",
    " 'ctx-rh-medialorbitofrontal',\n",
    " 'ctx-rh-middletemporal',\n",
    " 'ctx-rh-parahippocampal',\n",
    " 'ctx-rh-paracentral',\n",
    " 'ctx-rh-parsopercularis',\n",
    " 'ctx-rh-parsorbitalis',\n",
    " 'ctx-rh-parstriangularis',\n",
    " 'ctx-rh-pericalcarine',\n",
    " 'ctx-rh-postcentral',\n",
    " 'ctx-rh-posteriorcingulate',\n",
    " 'ctx-rh-precentral',\n",
    " 'ctx-rh-precuneus',\n",
    " 'ctx-rh-rostralanteriorcingulate',\n",
    " 'ctx-rh-rostralmiddlefrontal',\n",
    " 'ctx-rh-superiorfrontal',\n",
    " 'ctx-rh-superiorparietal',\n",
    " 'ctx-rh-superiortemporal',\n",
    " 'ctx-rh-supramarginal',\n",
    " 'ctx-rh-frontalpole',\n",
    " 'ctx-rh-temporalpole',\n",
    " 'ctx-rh-transversetemporal',\n",
    " 'ctx-rh-insula']\n",
    "\n",
    "\n",
    "\n"
   ]
  },
  {
   "cell_type": "code",
   "execution_count": 3,
   "id": "f8ff6425-2126-45eb-a3b8-3cedc812beec",
   "metadata": {},
   "outputs": [
    {
     "data": {
      "text/plain": [
       "('words', 'sentences', 'emptyroom')"
      ]
     },
     "execution_count": 3,
     "metadata": {},
     "output_type": "execute_result"
    }
   ],
   "source": [
    "e.sessions"
   ]
  },
  {
   "cell_type": "code",
   "execution_count": 4,
   "id": "99805743-2348-424f-b3c5-a7cbaf707e8a",
   "metadata": {},
   "outputs": [
    {
     "data": {
      "text/plain": [
       "{'word': PrimaryEpoch('words', tmax=0.8, samplingrate=250, baseline=(None, 0)),\n",
       " 'word-real': SecondaryEpoch('word', \"word == 'real'\"),\n",
       " 'word-stem': SecondaryEpoch('word', \"inflected == 'uninflected'\"),\n",
       " 'word-inflected': SecondaryEpoch('word', \"inflected == 'inflected'\"),\n",
       " 'cov': SecondaryEpoch('word', tmax=0),\n",
       " 'sentence': PrimaryEpoch('sentences', tmax=1.0, samplingrate=250, baseline=(None, 0)),\n",
       " 'sentence-shared': SecondaryEpoch('sentence', \"violation != 'grammatical\"),\n",
       " 'sentence-none': SecondaryEpoch('sentence', \"violation == 'none'\"),\n",
       " 'sentence-semantic': SecondaryEpoch('sentence', \"violation == 'semantic'\")}"
      ]
     },
     "execution_count": 4,
     "metadata": {},
     "output_type": "execute_result"
    }
   ],
   "source": [
    "sessions = ['word']\n",
    "e.epochs"
   ]
  },
  {
   "cell_type": "code",
   "execution_count": 5,
   "id": "e6329666-e68b-4427-9021-d062f55ef6a7",
   "metadata": {},
   "outputs": [],
   "source": [
    "epochs=['word-real','word-stem','word-inflected']\n",
    "group='young'"
   ]
  },
  {
   "cell_type": "code",
   "execution_count": 6,
   "id": "24af44f5-b12c-4734-8bca-9aaf23de01d6",
   "metadata": {},
   "outputs": [
    {
     "data": {
      "text/html": [
       "<figure><table border=\"1\" frame=\"hsides\" rules=\"none\" cellpadding=\"2\"><tr>\n",
       "<td style=\"text-align:left\">#</td>\n",
       "<td style=\"text-align:left\">subject</td>\n",
       "<td style=\"text-align:left\">mri</td>\n",
       "</tr>\n",
       "<tr>\n",
       "<td style=\"text-align:left\">0</td>\n",
       "<td style=\"text-align:left\">R0240</td>\n",
       "<td style=\"text-align:left\">fsaverage * 0.9046130902612369</td>\n",
       "</tr>\n",
       "<tr>\n",
       "<td style=\"text-align:left\">1</td>\n",
       "<td style=\"text-align:left\">R0284</td>\n",
       "<td style=\"text-align:left\">fsaverage * 0.8345097578227244</td>\n",
       "</tr>\n",
       "<tr>\n",
       "<td style=\"text-align:left\">2</td>\n",
       "<td style=\"text-align:left\">R0645</td>\n",
       "<td style=\"text-align:left\">fsaverage * 0.8831630078745408</td>\n",
       "</tr>\n",
       "<tr>\n",
       "<td style=\"text-align:left\">3</td>\n",
       "<td style=\"text-align:left\">R0654</td>\n",
       "<td style=\"text-align:left\">fsaverage * 0.847076641686781</td>\n",
       "</tr></table>\n",
       "<figcaption>Subjects in group young</figcaption></figure>"
      ],
      "text/plain": [
       "#   subject   mri                           \n",
       "--------------------------------------------\n",
       "0   R0240     fsaverage * 0.9046130902612369\n",
       "1   R0284     fsaverage * 0.8345097578227244\n",
       "2   R0645     fsaverage * 0.8831630078745408\n",
       "3   R0654     fsaverage * 0.847076641686781 \n",
       "--------------------------------------------\n",
       "Subjects in group young"
      ]
     },
     "execution_count": 6,
     "metadata": {},
     "output_type": "execute_result"
    }
   ],
   "source": [
    "e.show_subjects()"
   ]
  },
  {
   "cell_type": "code",
   "execution_count": 7,
   "id": "b32080e6-6d54-471f-aa13-e9a0d565a807",
   "metadata": {},
   "outputs": [
    {
     "data": {
      "application/vnd.jupyter.widget-view+json": {
       "model_id": "b8e639d987024b18b821cb1052ebe789",
       "version_major": 2,
       "version_minor": 0
      },
      "text/plain": [
       "Localize:   0%|          | 0/4 [00:00<?, ?it/s]"
      ]
     },
     "metadata": {},
     "output_type": "display_data"
    },
    {
     "data": {
      "application/vnd.jupyter.widget-view+json": {
       "model_id": "fb76e7f0e31749b587454a89e8e99d36",
       "version_major": 2,
       "version_minor": 0
      },
      "text/plain": [
       "Localize:   0%|          | 0/8 [00:00<?, ?it/s]"
      ]
     },
     "metadata": {},
     "output_type": "display_data"
    },
    {
     "data": {
      "application/vnd.jupyter.widget-view+json": {
       "model_id": "fc905ba8e04a4e078ec5f36dfbcb927c",
       "version_major": 2,
       "version_minor": 0
      },
      "text/plain": [
       "Localize:   0%|          | 0/8 [00:00<?, ?it/s]"
      ]
     },
     "metadata": {},
     "output_type": "display_data"
    }
   ],
   "source": [
    "\n",
    "results={}\n",
    "for epoch in epochs:\n",
    "    for session in sessions:\n",
    "        e.set(raw='n-ica', epoch=epoch, rej='')\n",
    "        \n",
    "        result=e.load_evoked_stc(\n",
    "            subjects=group, \n",
    "            baseline=False,\n",
    "            cov='emptyroom', \n",
    "            model='word',\n",
    "           )\n",
    "        results[f'{epoch}_{session}'] = result\n",
    " \n"
   ]
  },
  {
   "cell_type": "code",
   "execution_count": null,
   "id": "689f2a58-ffb7-4a98-bfb3-ab074c9716da",
   "metadata": {},
   "outputs": [],
   "source": []
  },
  {
   "cell_type": "code",
   "execution_count": null,
   "id": "128d8174-5ab6-4e57-8bfd-cde5b357d8fc",
   "metadata": {},
   "outputs": [],
   "source": []
  }
 ],
 "metadata": {
  "jupytext": {
   "formats": "ipynb,py"
  },
  "kernelspec": {
   "display_name": "Python 3 (ipykernel)",
   "language": "python",
   "name": "python3"
  },
  "language_info": {
   "codemirror_mode": {
    "name": "ipython",
    "version": 3
   },
   "file_extension": ".py",
   "mimetype": "text/x-python",
   "name": "python",
   "nbconvert_exporter": "python",
   "pygments_lexer": "ipython3",
   "version": "3.12.9"
  }
 },
 "nbformat": 4,
 "nbformat_minor": 5
}
